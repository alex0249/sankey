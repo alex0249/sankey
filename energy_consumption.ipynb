{
  "cells": [
    {
      "cell_type": "markdown",
      "metadata": {
        "id": "view-in-github",
        "colab_type": "text"
      },
      "source": [
        "<a href=\"https://colab.research.google.com/github/alex0249/sankey/blob/main/energy_consumption.ipynb\" target=\"_parent\"><img src=\"https://colab.research.google.com/assets/colab-badge.svg\" alt=\"Open In Colab\"/></a>"
      ]
    },
    {
      "cell_type": "markdown",
      "metadata": {
        "id": "4d4Ip_8p3bCF"
      },
      "source": [
        "# Energy consumption\n",
        "\n",
        "This notebook is split into 3 tasks:\n",
        "\n",
        "\n",
        "1.   US Energy Sankey example\n",
        "2.   Create your own Sankey using IEA data\n",
        "3.   Automate Sankey generation for any country by writing a Python function\n",
        "\n",
        "Run the first two cells setup the notebook.\n",
        "\n",
        "\n",
        "\n"
      ]
    },
    {
      "cell_type": "code",
      "execution_count": 13,
      "metadata": {
        "id": "bY7nXRLo3bCJ",
        "outputId": "e6f8e8f2-d869-4f04-e9fc-81503b50e1ab",
        "colab": {
          "base_uri": "https://localhost:8080/"
        }
      },
      "outputs": [
        {
          "output_type": "stream",
          "name": "stdout",
          "text": [
            "Collecting floweaver\n",
            "  Downloading floweaver-2.0.1-py3-none-any.whl.metadata (8.2 kB)\n",
            "Collecting ipysankeywidget\n",
            "  Downloading ipysankeywidget-0.5.0-py3-none-any.whl.metadata (4.3 kB)\n",
            "Requirement already satisfied: openpyxl in /usr/local/lib/python3.11/dist-packages (3.1.5)\n",
            "Requirement already satisfied: numpy in /usr/local/lib/python3.11/dist-packages (from floweaver) (1.26.4)\n",
            "Requirement already satisfied: pandas in /usr/local/lib/python3.11/dist-packages (from floweaver) (2.2.2)\n",
            "Requirement already satisfied: networkx>=2.1 in /usr/local/lib/python3.11/dist-packages (from floweaver) (3.4.2)\n",
            "Requirement already satisfied: attrs>=17.4 in /usr/local/lib/python3.11/dist-packages (from floweaver) (25.1.0)\n",
            "Collecting palettable (from floweaver)\n",
            "  Downloading palettable-3.3.3-py2.py3-none-any.whl.metadata (3.3 kB)\n",
            "Requirement already satisfied: ipywidgets<9,>=7.6.0 in /usr/local/lib/python3.11/dist-packages (from ipysankeywidget) (7.7.1)\n",
            "Requirement already satisfied: et-xmlfile in /usr/local/lib/python3.11/dist-packages (from openpyxl) (2.0.0)\n",
            "Requirement already satisfied: ipykernel>=4.5.1 in /usr/local/lib/python3.11/dist-packages (from ipywidgets<9,>=7.6.0->ipysankeywidget) (6.17.1)\n",
            "Requirement already satisfied: ipython-genutils~=0.2.0 in /usr/local/lib/python3.11/dist-packages (from ipywidgets<9,>=7.6.0->ipysankeywidget) (0.2.0)\n",
            "Requirement already satisfied: traitlets>=4.3.1 in /usr/local/lib/python3.11/dist-packages (from ipywidgets<9,>=7.6.0->ipysankeywidget) (5.7.1)\n",
            "Requirement already satisfied: widgetsnbextension~=3.6.0 in /usr/local/lib/python3.11/dist-packages (from ipywidgets<9,>=7.6.0->ipysankeywidget) (3.6.10)\n",
            "Requirement already satisfied: ipython>=4.0.0 in /usr/local/lib/python3.11/dist-packages (from ipywidgets<9,>=7.6.0->ipysankeywidget) (7.34.0)\n",
            "Requirement already satisfied: jupyterlab-widgets>=1.0.0 in /usr/local/lib/python3.11/dist-packages (from ipywidgets<9,>=7.6.0->ipysankeywidget) (3.0.13)\n",
            "Requirement already satisfied: python-dateutil>=2.8.2 in /usr/local/lib/python3.11/dist-packages (from pandas->floweaver) (2.8.2)\n",
            "Requirement already satisfied: pytz>=2020.1 in /usr/local/lib/python3.11/dist-packages (from pandas->floweaver) (2025.1)\n",
            "Requirement already satisfied: tzdata>=2022.7 in /usr/local/lib/python3.11/dist-packages (from pandas->floweaver) (2025.1)\n",
            "Requirement already satisfied: debugpy>=1.0 in /usr/local/lib/python3.11/dist-packages (from ipykernel>=4.5.1->ipywidgets<9,>=7.6.0->ipysankeywidget) (1.8.0)\n",
            "Requirement already satisfied: jupyter-client>=6.1.12 in /usr/local/lib/python3.11/dist-packages (from ipykernel>=4.5.1->ipywidgets<9,>=7.6.0->ipysankeywidget) (6.1.12)\n",
            "Requirement already satisfied: matplotlib-inline>=0.1 in /usr/local/lib/python3.11/dist-packages (from ipykernel>=4.5.1->ipywidgets<9,>=7.6.0->ipysankeywidget) (0.1.7)\n",
            "Requirement already satisfied: nest-asyncio in /usr/local/lib/python3.11/dist-packages (from ipykernel>=4.5.1->ipywidgets<9,>=7.6.0->ipysankeywidget) (1.6.0)\n",
            "Requirement already satisfied: packaging in /usr/local/lib/python3.11/dist-packages (from ipykernel>=4.5.1->ipywidgets<9,>=7.6.0->ipysankeywidget) (24.2)\n",
            "Requirement already satisfied: psutil in /usr/local/lib/python3.11/dist-packages (from ipykernel>=4.5.1->ipywidgets<9,>=7.6.0->ipysankeywidget) (5.9.5)\n",
            "Requirement already satisfied: pyzmq>=17 in /usr/local/lib/python3.11/dist-packages (from ipykernel>=4.5.1->ipywidgets<9,>=7.6.0->ipysankeywidget) (24.0.1)\n",
            "Requirement already satisfied: tornado>=6.1 in /usr/local/lib/python3.11/dist-packages (from ipykernel>=4.5.1->ipywidgets<9,>=7.6.0->ipysankeywidget) (6.4.2)\n",
            "Requirement already satisfied: setuptools>=18.5 in /usr/local/lib/python3.11/dist-packages (from ipython>=4.0.0->ipywidgets<9,>=7.6.0->ipysankeywidget) (75.1.0)\n",
            "Collecting jedi>=0.16 (from ipython>=4.0.0->ipywidgets<9,>=7.6.0->ipysankeywidget)\n",
            "  Downloading jedi-0.19.2-py2.py3-none-any.whl.metadata (22 kB)\n",
            "Requirement already satisfied: decorator in /usr/local/lib/python3.11/dist-packages (from ipython>=4.0.0->ipywidgets<9,>=7.6.0->ipysankeywidget) (4.4.2)\n",
            "Requirement already satisfied: pickleshare in /usr/local/lib/python3.11/dist-packages (from ipython>=4.0.0->ipywidgets<9,>=7.6.0->ipysankeywidget) (0.7.5)\n",
            "Requirement already satisfied: prompt-toolkit!=3.0.0,!=3.0.1,<3.1.0,>=2.0.0 in /usr/local/lib/python3.11/dist-packages (from ipython>=4.0.0->ipywidgets<9,>=7.6.0->ipysankeywidget) (3.0.50)\n",
            "Requirement already satisfied: pygments in /usr/local/lib/python3.11/dist-packages (from ipython>=4.0.0->ipywidgets<9,>=7.6.0->ipysankeywidget) (2.18.0)\n",
            "Requirement already satisfied: backcall in /usr/local/lib/python3.11/dist-packages (from ipython>=4.0.0->ipywidgets<9,>=7.6.0->ipysankeywidget) (0.2.0)\n",
            "Requirement already satisfied: pexpect>4.3 in /usr/local/lib/python3.11/dist-packages (from ipython>=4.0.0->ipywidgets<9,>=7.6.0->ipysankeywidget) (4.9.0)\n",
            "Requirement already satisfied: six>=1.5 in /usr/local/lib/python3.11/dist-packages (from python-dateutil>=2.8.2->pandas->floweaver) (1.17.0)\n",
            "Requirement already satisfied: notebook>=4.4.1 in /usr/local/lib/python3.11/dist-packages (from widgetsnbextension~=3.6.0->ipywidgets<9,>=7.6.0->ipysankeywidget) (6.5.5)\n",
            "Requirement already satisfied: parso<0.9.0,>=0.8.4 in /usr/local/lib/python3.11/dist-packages (from jedi>=0.16->ipython>=4.0.0->ipywidgets<9,>=7.6.0->ipysankeywidget) (0.8.4)\n",
            "Requirement already satisfied: jupyter-core>=4.6.0 in /usr/local/lib/python3.11/dist-packages (from jupyter-client>=6.1.12->ipykernel>=4.5.1->ipywidgets<9,>=7.6.0->ipysankeywidget) (5.7.2)\n",
            "Requirement already satisfied: jinja2 in /usr/local/lib/python3.11/dist-packages (from notebook>=4.4.1->widgetsnbextension~=3.6.0->ipywidgets<9,>=7.6.0->ipysankeywidget) (3.1.5)\n",
            "Requirement already satisfied: argon2-cffi in /usr/local/lib/python3.11/dist-packages (from notebook>=4.4.1->widgetsnbextension~=3.6.0->ipywidgets<9,>=7.6.0->ipysankeywidget) (23.1.0)\n",
            "Requirement already satisfied: nbformat in /usr/local/lib/python3.11/dist-packages (from notebook>=4.4.1->widgetsnbextension~=3.6.0->ipywidgets<9,>=7.6.0->ipysankeywidget) (5.10.4)\n",
            "Requirement already satisfied: nbconvert>=5 in /usr/local/lib/python3.11/dist-packages (from notebook>=4.4.1->widgetsnbextension~=3.6.0->ipywidgets<9,>=7.6.0->ipysankeywidget) (7.16.6)\n",
            "Requirement already satisfied: Send2Trash>=1.8.0 in /usr/local/lib/python3.11/dist-packages (from notebook>=4.4.1->widgetsnbextension~=3.6.0->ipywidgets<9,>=7.6.0->ipysankeywidget) (1.8.3)\n",
            "Requirement already satisfied: terminado>=0.8.3 in /usr/local/lib/python3.11/dist-packages (from notebook>=4.4.1->widgetsnbextension~=3.6.0->ipywidgets<9,>=7.6.0->ipysankeywidget) (0.18.1)\n",
            "Requirement already satisfied: prometheus-client in /usr/local/lib/python3.11/dist-packages (from notebook>=4.4.1->widgetsnbextension~=3.6.0->ipywidgets<9,>=7.6.0->ipysankeywidget) (0.21.1)\n",
            "Requirement already satisfied: nbclassic>=0.4.7 in /usr/local/lib/python3.11/dist-packages (from notebook>=4.4.1->widgetsnbextension~=3.6.0->ipywidgets<9,>=7.6.0->ipysankeywidget) (1.2.0)\n",
            "Requirement already satisfied: ptyprocess>=0.5 in /usr/local/lib/python3.11/dist-packages (from pexpect>4.3->ipython>=4.0.0->ipywidgets<9,>=7.6.0->ipysankeywidget) (0.7.0)\n",
            "Requirement already satisfied: wcwidth in /usr/local/lib/python3.11/dist-packages (from prompt-toolkit!=3.0.0,!=3.0.1,<3.1.0,>=2.0.0->ipython>=4.0.0->ipywidgets<9,>=7.6.0->ipysankeywidget) (0.2.13)\n",
            "Requirement already satisfied: platformdirs>=2.5 in /usr/local/lib/python3.11/dist-packages (from jupyter-core>=4.6.0->jupyter-client>=6.1.12->ipykernel>=4.5.1->ipywidgets<9,>=7.6.0->ipysankeywidget) (4.3.6)\n",
            "Requirement already satisfied: notebook-shim>=0.2.3 in /usr/local/lib/python3.11/dist-packages (from nbclassic>=0.4.7->notebook>=4.4.1->widgetsnbextension~=3.6.0->ipywidgets<9,>=7.6.0->ipysankeywidget) (0.2.4)\n",
            "Requirement already satisfied: beautifulsoup4 in /usr/local/lib/python3.11/dist-packages (from nbconvert>=5->notebook>=4.4.1->widgetsnbextension~=3.6.0->ipywidgets<9,>=7.6.0->ipysankeywidget) (4.13.3)\n",
            "Requirement already satisfied: bleach!=5.0.0 in /usr/local/lib/python3.11/dist-packages (from bleach[css]!=5.0.0->nbconvert>=5->notebook>=4.4.1->widgetsnbextension~=3.6.0->ipywidgets<9,>=7.6.0->ipysankeywidget) (6.2.0)\n",
            "Requirement already satisfied: defusedxml in /usr/local/lib/python3.11/dist-packages (from nbconvert>=5->notebook>=4.4.1->widgetsnbextension~=3.6.0->ipywidgets<9,>=7.6.0->ipysankeywidget) (0.7.1)\n",
            "Requirement already satisfied: jupyterlab-pygments in /usr/local/lib/python3.11/dist-packages (from nbconvert>=5->notebook>=4.4.1->widgetsnbextension~=3.6.0->ipywidgets<9,>=7.6.0->ipysankeywidget) (0.3.0)\n",
            "Requirement already satisfied: markupsafe>=2.0 in /usr/local/lib/python3.11/dist-packages (from nbconvert>=5->notebook>=4.4.1->widgetsnbextension~=3.6.0->ipywidgets<9,>=7.6.0->ipysankeywidget) (3.0.2)\n",
            "Requirement already satisfied: mistune<4,>=2.0.3 in /usr/local/lib/python3.11/dist-packages (from nbconvert>=5->notebook>=4.4.1->widgetsnbextension~=3.6.0->ipywidgets<9,>=7.6.0->ipysankeywidget) (3.1.1)\n",
            "Requirement already satisfied: nbclient>=0.5.0 in /usr/local/lib/python3.11/dist-packages (from nbconvert>=5->notebook>=4.4.1->widgetsnbextension~=3.6.0->ipywidgets<9,>=7.6.0->ipysankeywidget) (0.10.2)\n",
            "Requirement already satisfied: pandocfilters>=1.4.1 in /usr/local/lib/python3.11/dist-packages (from nbconvert>=5->notebook>=4.4.1->widgetsnbextension~=3.6.0->ipywidgets<9,>=7.6.0->ipysankeywidget) (1.5.1)\n",
            "Requirement already satisfied: fastjsonschema>=2.15 in /usr/local/lib/python3.11/dist-packages (from nbformat->notebook>=4.4.1->widgetsnbextension~=3.6.0->ipywidgets<9,>=7.6.0->ipysankeywidget) (2.21.1)\n",
            "Requirement already satisfied: jsonschema>=2.6 in /usr/local/lib/python3.11/dist-packages (from nbformat->notebook>=4.4.1->widgetsnbextension~=3.6.0->ipywidgets<9,>=7.6.0->ipysankeywidget) (4.23.0)\n",
            "Requirement already satisfied: argon2-cffi-bindings in /usr/local/lib/python3.11/dist-packages (from argon2-cffi->notebook>=4.4.1->widgetsnbextension~=3.6.0->ipywidgets<9,>=7.6.0->ipysankeywidget) (21.2.0)\n",
            "Requirement already satisfied: webencodings in /usr/local/lib/python3.11/dist-packages (from bleach!=5.0.0->bleach[css]!=5.0.0->nbconvert>=5->notebook>=4.4.1->widgetsnbextension~=3.6.0->ipywidgets<9,>=7.6.0->ipysankeywidget) (0.5.1)\n",
            "Requirement already satisfied: tinycss2<1.5,>=1.1.0 in /usr/local/lib/python3.11/dist-packages (from bleach[css]!=5.0.0->nbconvert>=5->notebook>=4.4.1->widgetsnbextension~=3.6.0->ipywidgets<9,>=7.6.0->ipysankeywidget) (1.4.0)\n",
            "Requirement already satisfied: jsonschema-specifications>=2023.03.6 in /usr/local/lib/python3.11/dist-packages (from jsonschema>=2.6->nbformat->notebook>=4.4.1->widgetsnbextension~=3.6.0->ipywidgets<9,>=7.6.0->ipysankeywidget) (2024.10.1)\n",
            "Requirement already satisfied: referencing>=0.28.4 in /usr/local/lib/python3.11/dist-packages (from jsonschema>=2.6->nbformat->notebook>=4.4.1->widgetsnbextension~=3.6.0->ipywidgets<9,>=7.6.0->ipysankeywidget) (0.36.2)\n",
            "Requirement already satisfied: rpds-py>=0.7.1 in /usr/local/lib/python3.11/dist-packages (from jsonschema>=2.6->nbformat->notebook>=4.4.1->widgetsnbextension~=3.6.0->ipywidgets<9,>=7.6.0->ipysankeywidget) (0.22.3)\n",
            "Requirement already satisfied: jupyter-server<3,>=1.8 in /usr/local/lib/python3.11/dist-packages (from notebook-shim>=0.2.3->nbclassic>=0.4.7->notebook>=4.4.1->widgetsnbextension~=3.6.0->ipywidgets<9,>=7.6.0->ipysankeywidget) (1.24.0)\n",
            "Requirement already satisfied: cffi>=1.0.1 in /usr/local/lib/python3.11/dist-packages (from argon2-cffi-bindings->argon2-cffi->notebook>=4.4.1->widgetsnbextension~=3.6.0->ipywidgets<9,>=7.6.0->ipysankeywidget) (1.17.1)\n",
            "Requirement already satisfied: soupsieve>1.2 in /usr/local/lib/python3.11/dist-packages (from beautifulsoup4->nbconvert>=5->notebook>=4.4.1->widgetsnbextension~=3.6.0->ipywidgets<9,>=7.6.0->ipysankeywidget) (2.6)\n",
            "Requirement already satisfied: typing-extensions>=4.0.0 in /usr/local/lib/python3.11/dist-packages (from beautifulsoup4->nbconvert>=5->notebook>=4.4.1->widgetsnbextension~=3.6.0->ipywidgets<9,>=7.6.0->ipysankeywidget) (4.12.2)\n",
            "Requirement already satisfied: pycparser in /usr/local/lib/python3.11/dist-packages (from cffi>=1.0.1->argon2-cffi-bindings->argon2-cffi->notebook>=4.4.1->widgetsnbextension~=3.6.0->ipywidgets<9,>=7.6.0->ipysankeywidget) (2.22)\n",
            "Requirement already satisfied: anyio<4,>=3.1.0 in /usr/local/lib/python3.11/dist-packages (from jupyter-server<3,>=1.8->notebook-shim>=0.2.3->nbclassic>=0.4.7->notebook>=4.4.1->widgetsnbextension~=3.6.0->ipywidgets<9,>=7.6.0->ipysankeywidget) (3.7.1)\n",
            "Requirement already satisfied: websocket-client in /usr/local/lib/python3.11/dist-packages (from jupyter-server<3,>=1.8->notebook-shim>=0.2.3->nbclassic>=0.4.7->notebook>=4.4.1->widgetsnbextension~=3.6.0->ipywidgets<9,>=7.6.0->ipysankeywidget) (1.8.0)\n",
            "Requirement already satisfied: idna>=2.8 in /usr/local/lib/python3.11/dist-packages (from anyio<4,>=3.1.0->jupyter-server<3,>=1.8->notebook-shim>=0.2.3->nbclassic>=0.4.7->notebook>=4.4.1->widgetsnbextension~=3.6.0->ipywidgets<9,>=7.6.0->ipysankeywidget) (3.10)\n",
            "Requirement already satisfied: sniffio>=1.1 in /usr/local/lib/python3.11/dist-packages (from anyio<4,>=3.1.0->jupyter-server<3,>=1.8->notebook-shim>=0.2.3->nbclassic>=0.4.7->notebook>=4.4.1->widgetsnbextension~=3.6.0->ipywidgets<9,>=7.6.0->ipysankeywidget) (1.3.1)\n",
            "Downloading floweaver-2.0.1-py3-none-any.whl (28 kB)\n",
            "Downloading ipysankeywidget-0.5.0-py3-none-any.whl (330 kB)\n",
            "\u001b[2K   \u001b[90m━━━━━━━━━━━━━━━━━━━━━━━━━━━━━━━━━━━━━━━━\u001b[0m \u001b[32m330.1/330.1 kB\u001b[0m \u001b[31m10.3 MB/s\u001b[0m eta \u001b[36m0:00:00\u001b[0m\n",
            "\u001b[?25hDownloading palettable-3.3.3-py2.py3-none-any.whl (332 kB)\n",
            "\u001b[2K   \u001b[90m━━━━━━━━━━━━━━━━━━━━━━━━━━━━━━━━━━━━━━━━\u001b[0m \u001b[32m332.3/332.3 kB\u001b[0m \u001b[31m19.4 MB/s\u001b[0m eta \u001b[36m0:00:00\u001b[0m\n",
            "\u001b[?25hDownloading jedi-0.19.2-py2.py3-none-any.whl (1.6 MB)\n",
            "\u001b[2K   \u001b[90m━━━━━━━━━━━━━━━━━━━━━━━━━━━━━━━━━━━━━━━━\u001b[0m \u001b[32m1.6/1.6 MB\u001b[0m \u001b[31m34.1 MB/s\u001b[0m eta \u001b[36m0:00:00\u001b[0m\n",
            "\u001b[?25hInstalling collected packages: palettable, jedi, floweaver, ipysankeywidget\n",
            "Successfully installed floweaver-2.0.1 ipysankeywidget-0.5.0 jedi-0.19.2 palettable-3.3.3\n",
            "Downloading file...\n"
          ]
        },
        {
          "output_type": "stream",
          "name": "stderr",
          "text": [
            "Downloading...\n",
            "From: https://drive.google.com/uc?id=1qriY29v7eKJIs07UxAw5RlJirfwuLnyP\n",
            "To: /content/temp.zip\n",
            "100%|██████████| 154k/154k [00:00<00:00, 53.4MB/s]"
          ]
        },
        {
          "output_type": "stream",
          "name": "stdout",
          "text": [
            "Extracting files...\n",
            "Download and extraction complete.\n"
          ]
        },
        {
          "output_type": "stream",
          "name": "stderr",
          "text": [
            "\n"
          ]
        }
      ],
      "source": [
        "# Installation and downloads\n",
        "!pip install floweaver ipysankeywidget openpyxl --upgrade\n",
        "\n",
        "from floweaver import *\n",
        "import gdown, os, zipfile\n",
        "\n",
        "def download_and_unzip_from_google_drive(file_id='1qriY29v7eKJIs07UxAw5RlJirfwuLnyP', destination_folder='example_data'):\n",
        "    if os.path.exists(destination_folder):\n",
        "        print('Zip file already downloaded. If you want to reload, please delete the example_data folder.')\n",
        "        return\n",
        "    else:\n",
        "        download_url = f\"https://drive.google.com/uc?id={file_id}\"\n",
        "        output = 'temp.zip'\n",
        "        print(\"Downloading file...\")\n",
        "        gdown.download(download_url, output, quiet=False)\n",
        "        os.makedirs(destination_folder, exist_ok=True)\n",
        "        print(\"Extracting files...\")\n",
        "        with zipfile.ZipFile(output, 'r') as zip_ref:\n",
        "            zip_ref.extractall(destination_folder)\n",
        "        os.remove(output)\n",
        "        print(\"Download and extraction complete.\")\n",
        "\n",
        "download_and_unzip_from_google_drive()\n"
      ]
    },
    {
      "cell_type": "code",
      "source": [
        "\"\"\"Display setup\"\"\"\n",
        "# Enable widget display for Sankeys in Colab\n",
        "from google.colab import output\n",
        "output.enable_custom_widget_manager()"
      ],
      "metadata": {
        "id": "IV4oVXv37Dxn"
      },
      "execution_count": 2,
      "outputs": []
    },
    {
      "cell_type": "markdown",
      "source": [
        "## Task 1 - US example\n",
        "\n",
        "Step through this section to see an example for the US based on the [Sankey diagrams of US energy consumption from the Lawrence Livermore National Laboratory](https://flowcharts.llnl.gov/)."
      ],
      "metadata": {
        "id": "POjd-O7vCEbE"
      }
    },
    {
      "cell_type": "code",
      "execution_count": 4,
      "metadata": {
        "id": "1rgEr88P3bCL"
      },
      "outputs": [],
      "source": [
        "\"\"\"Load the dataset\"\"\"\n",
        "dataset = Dataset.from_csv('example_data/us-energy-consumption.csv',\n",
        "                           dim_process_filename='example_data/us-energy-consumption-processes.csv')"
      ]
    },
    {
      "cell_type": "code",
      "execution_count": 5,
      "metadata": {
        "id": "QYvMGV2k3bCM"
      },
      "outputs": [],
      "source": [
        "\"\"\"Define the order the nodes appear in\"\"\"\n",
        "sources = ['Solar', 'Nuclear', 'Hydro', 'Wind', 'Geothermal',\n",
        "           'Natural_Gas', 'Coal', 'Biomass', 'Petroleum']\n",
        "\n",
        "uses = ['Residential', 'Commercial', 'Industrial', 'Transportation']"
      ]
    },
    {
      "cell_type": "code",
      "execution_count": 6,
      "metadata": {
        "id": "XdOB57Yf3bCN"
      },
      "outputs": [],
      "source": [
        "\"\"\"define the Sankey diagram definition\"\"\"\n",
        "nodes = {\n",
        "    'sources': ProcessGroup('type == \"source\"', Partition.Simple('process', sources), title='Sources'),\n",
        "    'imports': ProcessGroup(['Net_Electricity_Import'], title='Net electricity imports'),\n",
        "    'electricity': ProcessGroup(['Electricity_Generation'], title='Electricity Generation'),\n",
        "    'uses': ProcessGroup('type == \"use\"', partition=Partition.Simple('process', uses)),\n",
        "\n",
        "    'energy_services': ProcessGroup(['Energy_Services'], title='Energy services'),\n",
        "    'rejected': ProcessGroup(['Rejected_Energy'], title='Rejected energy'),\n",
        "\n",
        "    'direct_use': Waypoint(Partition.Simple('source', [\n",
        "        # This is a hack to hide the labels of the partition, there should be a better way...\n",
        "        (' '*i, [k]) for i, k in enumerate(sources)\n",
        "    ])),\n",
        "}\n",
        "\n",
        "ordering = [\n",
        "    [[], ['sources'], []],\n",
        "    [['imports'], ['electricity', 'direct_use'], []],\n",
        "    [[], ['uses'], []],\n",
        "    [[], ['rejected', 'energy_services'], []]\n",
        "]\n",
        "\n",
        "bundles = [\n",
        "    Bundle('sources', 'electricity'),\n",
        "    Bundle('sources', 'uses', waypoints=['direct_use']),\n",
        "    Bundle('electricity', 'uses'),\n",
        "    Bundle('imports', 'uses'),\n",
        "    Bundle('uses', 'energy_services'),\n",
        "    Bundle('uses', 'rejected'),\n",
        "    Bundle('electricity', 'rejected'),\n",
        "]"
      ]
    },
    {
      "cell_type": "code",
      "execution_count": 7,
      "metadata": {
        "id": "GM6VX1-b3bCP"
      },
      "outputs": [],
      "source": [
        "\"\"\"Define the colours to roughly imitate the original Sankey diagram\"\"\"\n",
        "palette = {\n",
        "    'Solar': 'gold',\n",
        "    'Nuclear': 'red',\n",
        "    'Hydro': 'blue',\n",
        "    'Wind': 'purple',\n",
        "    'Geothermal': 'brown',\n",
        "    'Natural_Gas': 'steelblue',\n",
        "    'Coal': 'black',\n",
        "    'Biomass': 'lightgreen',\n",
        "    'Petroleum': 'green',\n",
        "    'Electricity': 'orange',\n",
        "    'Rejected energy': 'lightgrey',\n",
        "    'Energy services': 'dimgrey',\n",
        "}"
      ]
    },
    {
      "cell_type": "markdown",
      "metadata": {
        "id": "UysJD6jp3bCP"
      },
      "source": [
        "And here's the result!"
      ]
    },
    {
      "cell_type": "code",
      "execution_count": 8,
      "metadata": {
        "id": "lCgMwYvP3bCQ",
        "outputId": "80ea7ba8-0d1e-45cd-cc50-f40eea576bc2",
        "colab": {
          "base_uri": "https://localhost:8080/",
          "height": 471,
          "referenced_widgets": [
            "2b49224528fc42c78fb9a2f135064ffd",
            "bc37f82f8f4044d281d6add67250f3fd",
            "c61316bdaf44461bac9e137f7027ed9e",
            "3884df3bab6e480381094afb3784d9db",
            "ad4b9a3fb15047119d26ee7d0b644dd7",
            "4c13f3f11fc441eb8fea77ea1a41a351"
          ]
        }
      },
      "outputs": [
        {
          "output_type": "display_data",
          "data": {
            "text/plain": [
              "VBox(children=(SankeyWidget(groups=[{'id': 'sources', 'type': 'process', 'title': 'Sources', 'nodes': ['source…"
            ],
            "application/vnd.jupyter.widget-view+json": {
              "version_major": 2,
              "version_minor": 0,
              "model_id": "2b49224528fc42c78fb9a2f135064ffd"
            }
          },
          "metadata": {
            "application/vnd.jupyter.widget-view+json": {
              "colab": {
                "custom_widget_manager": {
                  "url": "https://ssl.gstatic.com/colaboratory-static/widgets/colab-cdn-widget-manager/2b70e893a8ba7c0f/manager.min.js"
                }
              }
            }
          }
        }
      ],
      "source": [
        "sdd = SankeyDefinition(nodes, bundles, ordering,\n",
        "                       flow_partition=dataset.partition('type'))\n",
        "weave(sdd, dataset, palette=palette) \\\n",
        "    .to_widget(width=700, height=450, margins=dict(left=100, right=120), debugging=True)"
      ]
    },
    {
      "cell_type": "markdown",
      "source": [
        "You can save a copy of the Sankey by adding `.auto_save_png('filename.png')` or `.auto_save_svg('filename.svg')` to the end of the `weave` call in the previous box."
      ],
      "metadata": {
        "id": "Jasbl9Li5l6H"
      }
    },
    {
      "cell_type": "markdown",
      "source": [
        "## Task 2 - Create your own\n",
        "\n",
        "Follow the steps below to create an equivalent Sankey for a different country."
      ],
      "metadata": {
        "id": "1htzPV_JfNjr"
      }
    },
    {
      "cell_type": "code",
      "source": [
        "# @markdown   1. Download the IEA World Energy Balances spreadsheet, by running this cell. Further information is available at https://www.iea.org/data-and-statistics/data-product/world-energy-statistics-and-balances. Open the file up on your computer and navigate to the `TimeSeries_1971-2022` sheet. Save this sheet as a .csv file which is much easier to read into most programmes than an Excel file. Then upload it to Colab using the `upload` button in the left panel or by simply dragging and dropping.\n",
        "%%capture\n",
        "file_id = '1FN-0xkVHiM2V75RTgl-Aq7l862mgWdAh'\n",
        "download_url = f\"https://drive.google.com/uc?id={file_id}\"\n",
        "!wget -O WorldEnergyBalances.xlsx $download_url\n",
        "files.download('WorldEnergyBalances.xlsx')"
      ],
      "metadata": {
        "id": "93L9NGS_fEiZ"
      },
      "execution_count": 14,
      "outputs": []
    },
    {
      "cell_type": "markdown",
      "source": [
        "  2. In the next cell import the sheet to a pandas DataFrame. To find appropriate functions for the next steps either have a look at the [pandas documentation](https://pandas.pydata.org/docs/reference/index.html), or remember [your best friend](https://www.google.com/) when writing code.\n",
        "\n"
      ],
      "metadata": {
        "id": "rmsJKiUlCK94"
      }
    },
    {
      "cell_type": "code",
      "source": [
        "\"\"\"Read in an Excel file\"\"\"\n",
        "import pandas as pd\n",
        "from floweaver import *\n",
        "fileName = 'WorldEnergyBalances.csv'\n",
        "data = pd.read_csv(fileName)"
      ],
      "metadata": {
        "id": "Bx6dXau0CKmX"
      },
      "execution_count": 2,
      "outputs": []
    },
    {
      "cell_type": "markdown",
      "source": [
        "3. Filter the DataFrame to contain only the desired country data."
      ],
      "metadata": {
        "id": "ZZFYds1VccfR"
      }
    },
    {
      "cell_type": "code",
      "source": [
        "\"\"\"Get desired country\"\"\"\n",
        "country = \"Korea\"\n",
        "countryData = data.loc[data['Country'] == country]"
      ],
      "metadata": {
        "id": "oMSN66Gocb4h"
      },
      "execution_count": 5,
      "outputs": []
    },
    {
      "cell_type": "markdown",
      "source": [
        "4. Filter the DataFrame to only contain 'Product', 'Flow' and value for the latest full year. To get the latest year, find the maximum integer value in the column headers."
      ],
      "metadata": {
        "id": "tbAZ9lu2dmmV"
      }
    },
    {
      "cell_type": "code",
      "source": [
        "\"\"\"Get values for latest year\"\"\"\n",
        "lastYear = '2022'\n",
        "filterData = countryData[['Product', 'Flow', lastYear]]\n",
        "\n",
        "# Display data\n",
        "display(filterData)"
      ],
      "metadata": {
        "id": "mvTXPkZJdGVI",
        "outputId": "16c0e386-4493-4076-bbd2-7765ac70592f",
        "colab": {
          "base_uri": "https://localhost:8080/",
          "height": 424
        }
      },
      "execution_count": 6,
      "outputs": [
        {
          "output_type": "display_data",
          "data": {
            "text/plain": [
              "                       Product                                   Flow    2022\n",
              "2160  Coal, peat and oil shale                        Production (PJ)      15\n",
              "2161  Coal, peat and oil shale                           Imports (PJ)    2855\n",
              "2162  Coal, peat and oil shale                           Exports (PJ)       0\n",
              "2163  Coal, peat and oil shale               Total energy supply (PJ)    2856\n",
              "2164  Coal, peat and oil shale  Electricity, CHP and heat plants (PJ)   -1931\n",
              "...                        ...                                    ...     ...\n",
              "2267                     Total           Other final consumption (PJ)    2324\n",
              "6668              Fossil fuels               Electricity output (GWh)  383850\n",
              "6669                   Nuclear               Electricity output (GWh)  176054\n",
              "6670         Renewable sources               Electricity output (GWh)   45400\n",
              "6671                     Total               Electricity output (GWh)  610173\n",
              "\n",
              "[112 rows x 3 columns]"
            ],
            "text/html": [
              "\n",
              "  <div id=\"df-8b40b119-4e1d-4740-a6ae-2b689767c40f\" class=\"colab-df-container\">\n",
              "    <div>\n",
              "<style scoped>\n",
              "    .dataframe tbody tr th:only-of-type {\n",
              "        vertical-align: middle;\n",
              "    }\n",
              "\n",
              "    .dataframe tbody tr th {\n",
              "        vertical-align: top;\n",
              "    }\n",
              "\n",
              "    .dataframe thead th {\n",
              "        text-align: right;\n",
              "    }\n",
              "</style>\n",
              "<table border=\"1\" class=\"dataframe\">\n",
              "  <thead>\n",
              "    <tr style=\"text-align: right;\">\n",
              "      <th></th>\n",
              "      <th>Product</th>\n",
              "      <th>Flow</th>\n",
              "      <th>2022</th>\n",
              "    </tr>\n",
              "  </thead>\n",
              "  <tbody>\n",
              "    <tr>\n",
              "      <th>2160</th>\n",
              "      <td>Coal, peat and oil shale</td>\n",
              "      <td>Production (PJ)</td>\n",
              "      <td>15</td>\n",
              "    </tr>\n",
              "    <tr>\n",
              "      <th>2161</th>\n",
              "      <td>Coal, peat and oil shale</td>\n",
              "      <td>Imports (PJ)</td>\n",
              "      <td>2855</td>\n",
              "    </tr>\n",
              "    <tr>\n",
              "      <th>2162</th>\n",
              "      <td>Coal, peat and oil shale</td>\n",
              "      <td>Exports (PJ)</td>\n",
              "      <td>0</td>\n",
              "    </tr>\n",
              "    <tr>\n",
              "      <th>2163</th>\n",
              "      <td>Coal, peat and oil shale</td>\n",
              "      <td>Total energy supply (PJ)</td>\n",
              "      <td>2856</td>\n",
              "    </tr>\n",
              "    <tr>\n",
              "      <th>2164</th>\n",
              "      <td>Coal, peat and oil shale</td>\n",
              "      <td>Electricity, CHP and heat plants (PJ)</td>\n",
              "      <td>-1931</td>\n",
              "    </tr>\n",
              "    <tr>\n",
              "      <th>...</th>\n",
              "      <td>...</td>\n",
              "      <td>...</td>\n",
              "      <td>...</td>\n",
              "    </tr>\n",
              "    <tr>\n",
              "      <th>2267</th>\n",
              "      <td>Total</td>\n",
              "      <td>Other final consumption (PJ)</td>\n",
              "      <td>2324</td>\n",
              "    </tr>\n",
              "    <tr>\n",
              "      <th>6668</th>\n",
              "      <td>Fossil fuels</td>\n",
              "      <td>Electricity output (GWh)</td>\n",
              "      <td>383850</td>\n",
              "    </tr>\n",
              "    <tr>\n",
              "      <th>6669</th>\n",
              "      <td>Nuclear</td>\n",
              "      <td>Electricity output (GWh)</td>\n",
              "      <td>176054</td>\n",
              "    </tr>\n",
              "    <tr>\n",
              "      <th>6670</th>\n",
              "      <td>Renewable sources</td>\n",
              "      <td>Electricity output (GWh)</td>\n",
              "      <td>45400</td>\n",
              "    </tr>\n",
              "    <tr>\n",
              "      <th>6671</th>\n",
              "      <td>Total</td>\n",
              "      <td>Electricity output (GWh)</td>\n",
              "      <td>610173</td>\n",
              "    </tr>\n",
              "  </tbody>\n",
              "</table>\n",
              "<p>112 rows × 3 columns</p>\n",
              "</div>\n",
              "    <div class=\"colab-df-buttons\">\n",
              "\n",
              "  <div class=\"colab-df-container\">\n",
              "    <button class=\"colab-df-convert\" onclick=\"convertToInteractive('df-8b40b119-4e1d-4740-a6ae-2b689767c40f')\"\n",
              "            title=\"Convert this dataframe to an interactive table.\"\n",
              "            style=\"display:none;\">\n",
              "\n",
              "  <svg xmlns=\"http://www.w3.org/2000/svg\" height=\"24px\" viewBox=\"0 -960 960 960\">\n",
              "    <path d=\"M120-120v-720h720v720H120Zm60-500h600v-160H180v160Zm220 220h160v-160H400v160Zm0 220h160v-160H400v160ZM180-400h160v-160H180v160Zm440 0h160v-160H620v160ZM180-180h160v-160H180v160Zm440 0h160v-160H620v160Z\"/>\n",
              "  </svg>\n",
              "    </button>\n",
              "\n",
              "  <style>\n",
              "    .colab-df-container {\n",
              "      display:flex;\n",
              "      gap: 12px;\n",
              "    }\n",
              "\n",
              "    .colab-df-convert {\n",
              "      background-color: #E8F0FE;\n",
              "      border: none;\n",
              "      border-radius: 50%;\n",
              "      cursor: pointer;\n",
              "      display: none;\n",
              "      fill: #1967D2;\n",
              "      height: 32px;\n",
              "      padding: 0 0 0 0;\n",
              "      width: 32px;\n",
              "    }\n",
              "\n",
              "    .colab-df-convert:hover {\n",
              "      background-color: #E2EBFA;\n",
              "      box-shadow: 0px 1px 2px rgba(60, 64, 67, 0.3), 0px 1px 3px 1px rgba(60, 64, 67, 0.15);\n",
              "      fill: #174EA6;\n",
              "    }\n",
              "\n",
              "    .colab-df-buttons div {\n",
              "      margin-bottom: 4px;\n",
              "    }\n",
              "\n",
              "    [theme=dark] .colab-df-convert {\n",
              "      background-color: #3B4455;\n",
              "      fill: #D2E3FC;\n",
              "    }\n",
              "\n",
              "    [theme=dark] .colab-df-convert:hover {\n",
              "      background-color: #434B5C;\n",
              "      box-shadow: 0px 1px 3px 1px rgba(0, 0, 0, 0.15);\n",
              "      filter: drop-shadow(0px 1px 2px rgba(0, 0, 0, 0.3));\n",
              "      fill: #FFFFFF;\n",
              "    }\n",
              "  </style>\n",
              "\n",
              "    <script>\n",
              "      const buttonEl =\n",
              "        document.querySelector('#df-8b40b119-4e1d-4740-a6ae-2b689767c40f button.colab-df-convert');\n",
              "      buttonEl.style.display =\n",
              "        google.colab.kernel.accessAllowed ? 'block' : 'none';\n",
              "\n",
              "      async function convertToInteractive(key) {\n",
              "        const element = document.querySelector('#df-8b40b119-4e1d-4740-a6ae-2b689767c40f');\n",
              "        const dataTable =\n",
              "          await google.colab.kernel.invokeFunction('convertToInteractive',\n",
              "                                                    [key], {});\n",
              "        if (!dataTable) return;\n",
              "\n",
              "        const docLinkHtml = 'Like what you see? Visit the ' +\n",
              "          '<a target=\"_blank\" href=https://colab.research.google.com/notebooks/data_table.ipynb>data table notebook</a>'\n",
              "          + ' to learn more about interactive tables.';\n",
              "        element.innerHTML = '';\n",
              "        dataTable['output_type'] = 'display_data';\n",
              "        await google.colab.output.renderOutput(dataTable, element);\n",
              "        const docLink = document.createElement('div');\n",
              "        docLink.innerHTML = docLinkHtml;\n",
              "        element.appendChild(docLink);\n",
              "      }\n",
              "    </script>\n",
              "  </div>\n",
              "\n",
              "\n",
              "<div id=\"df-16d38499-7d07-41b4-b940-0da1a88338ef\">\n",
              "  <button class=\"colab-df-quickchart\" onclick=\"quickchart('df-16d38499-7d07-41b4-b940-0da1a88338ef')\"\n",
              "            title=\"Suggest charts\"\n",
              "            style=\"display:none;\">\n",
              "\n",
              "<svg xmlns=\"http://www.w3.org/2000/svg\" height=\"24px\"viewBox=\"0 0 24 24\"\n",
              "     width=\"24px\">\n",
              "    <g>\n",
              "        <path d=\"M19 3H5c-1.1 0-2 .9-2 2v14c0 1.1.9 2 2 2h14c1.1 0 2-.9 2-2V5c0-1.1-.9-2-2-2zM9 17H7v-7h2v7zm4 0h-2V7h2v10zm4 0h-2v-4h2v4z\"/>\n",
              "    </g>\n",
              "</svg>\n",
              "  </button>\n",
              "\n",
              "<style>\n",
              "  .colab-df-quickchart {\n",
              "      --bg-color: #E8F0FE;\n",
              "      --fill-color: #1967D2;\n",
              "      --hover-bg-color: #E2EBFA;\n",
              "      --hover-fill-color: #174EA6;\n",
              "      --disabled-fill-color: #AAA;\n",
              "      --disabled-bg-color: #DDD;\n",
              "  }\n",
              "\n",
              "  [theme=dark] .colab-df-quickchart {\n",
              "      --bg-color: #3B4455;\n",
              "      --fill-color: #D2E3FC;\n",
              "      --hover-bg-color: #434B5C;\n",
              "      --hover-fill-color: #FFFFFF;\n",
              "      --disabled-bg-color: #3B4455;\n",
              "      --disabled-fill-color: #666;\n",
              "  }\n",
              "\n",
              "  .colab-df-quickchart {\n",
              "    background-color: var(--bg-color);\n",
              "    border: none;\n",
              "    border-radius: 50%;\n",
              "    cursor: pointer;\n",
              "    display: none;\n",
              "    fill: var(--fill-color);\n",
              "    height: 32px;\n",
              "    padding: 0;\n",
              "    width: 32px;\n",
              "  }\n",
              "\n",
              "  .colab-df-quickchart:hover {\n",
              "    background-color: var(--hover-bg-color);\n",
              "    box-shadow: 0 1px 2px rgba(60, 64, 67, 0.3), 0 1px 3px 1px rgba(60, 64, 67, 0.15);\n",
              "    fill: var(--button-hover-fill-color);\n",
              "  }\n",
              "\n",
              "  .colab-df-quickchart-complete:disabled,\n",
              "  .colab-df-quickchart-complete:disabled:hover {\n",
              "    background-color: var(--disabled-bg-color);\n",
              "    fill: var(--disabled-fill-color);\n",
              "    box-shadow: none;\n",
              "  }\n",
              "\n",
              "  .colab-df-spinner {\n",
              "    border: 2px solid var(--fill-color);\n",
              "    border-color: transparent;\n",
              "    border-bottom-color: var(--fill-color);\n",
              "    animation:\n",
              "      spin 1s steps(1) infinite;\n",
              "  }\n",
              "\n",
              "  @keyframes spin {\n",
              "    0% {\n",
              "      border-color: transparent;\n",
              "      border-bottom-color: var(--fill-color);\n",
              "      border-left-color: var(--fill-color);\n",
              "    }\n",
              "    20% {\n",
              "      border-color: transparent;\n",
              "      border-left-color: var(--fill-color);\n",
              "      border-top-color: var(--fill-color);\n",
              "    }\n",
              "    30% {\n",
              "      border-color: transparent;\n",
              "      border-left-color: var(--fill-color);\n",
              "      border-top-color: var(--fill-color);\n",
              "      border-right-color: var(--fill-color);\n",
              "    }\n",
              "    40% {\n",
              "      border-color: transparent;\n",
              "      border-right-color: var(--fill-color);\n",
              "      border-top-color: var(--fill-color);\n",
              "    }\n",
              "    60% {\n",
              "      border-color: transparent;\n",
              "      border-right-color: var(--fill-color);\n",
              "    }\n",
              "    80% {\n",
              "      border-color: transparent;\n",
              "      border-right-color: var(--fill-color);\n",
              "      border-bottom-color: var(--fill-color);\n",
              "    }\n",
              "    90% {\n",
              "      border-color: transparent;\n",
              "      border-bottom-color: var(--fill-color);\n",
              "    }\n",
              "  }\n",
              "</style>\n",
              "\n",
              "  <script>\n",
              "    async function quickchart(key) {\n",
              "      const quickchartButtonEl =\n",
              "        document.querySelector('#' + key + ' button');\n",
              "      quickchartButtonEl.disabled = true;  // To prevent multiple clicks.\n",
              "      quickchartButtonEl.classList.add('colab-df-spinner');\n",
              "      try {\n",
              "        const charts = await google.colab.kernel.invokeFunction(\n",
              "            'suggestCharts', [key], {});\n",
              "      } catch (error) {\n",
              "        console.error('Error during call to suggestCharts:', error);\n",
              "      }\n",
              "      quickchartButtonEl.classList.remove('colab-df-spinner');\n",
              "      quickchartButtonEl.classList.add('colab-df-quickchart-complete');\n",
              "    }\n",
              "    (() => {\n",
              "      let quickchartButtonEl =\n",
              "        document.querySelector('#df-16d38499-7d07-41b4-b940-0da1a88338ef button');\n",
              "      quickchartButtonEl.style.display =\n",
              "        google.colab.kernel.accessAllowed ? 'block' : 'none';\n",
              "    })();\n",
              "  </script>\n",
              "</div>\n",
              "\n",
              "  <div id=\"id_a0b46906-b8ea-4264-b451-25e9788509d7\">\n",
              "    <style>\n",
              "      .colab-df-generate {\n",
              "        background-color: #E8F0FE;\n",
              "        border: none;\n",
              "        border-radius: 50%;\n",
              "        cursor: pointer;\n",
              "        display: none;\n",
              "        fill: #1967D2;\n",
              "        height: 32px;\n",
              "        padding: 0 0 0 0;\n",
              "        width: 32px;\n",
              "      }\n",
              "\n",
              "      .colab-df-generate:hover {\n",
              "        background-color: #E2EBFA;\n",
              "        box-shadow: 0px 1px 2px rgba(60, 64, 67, 0.3), 0px 1px 3px 1px rgba(60, 64, 67, 0.15);\n",
              "        fill: #174EA6;\n",
              "      }\n",
              "\n",
              "      [theme=dark] .colab-df-generate {\n",
              "        background-color: #3B4455;\n",
              "        fill: #D2E3FC;\n",
              "      }\n",
              "\n",
              "      [theme=dark] .colab-df-generate:hover {\n",
              "        background-color: #434B5C;\n",
              "        box-shadow: 0px 1px 3px 1px rgba(0, 0, 0, 0.15);\n",
              "        filter: drop-shadow(0px 1px 2px rgba(0, 0, 0, 0.3));\n",
              "        fill: #FFFFFF;\n",
              "      }\n",
              "    </style>\n",
              "    <button class=\"colab-df-generate\" onclick=\"generateWithVariable('filterData')\"\n",
              "            title=\"Generate code using this dataframe.\"\n",
              "            style=\"display:none;\">\n",
              "\n",
              "  <svg xmlns=\"http://www.w3.org/2000/svg\" height=\"24px\"viewBox=\"0 0 24 24\"\n",
              "       width=\"24px\">\n",
              "    <path d=\"M7,19H8.4L18.45,9,17,7.55,7,17.6ZM5,21V16.75L18.45,3.32a2,2,0,0,1,2.83,0l1.4,1.43a1.91,1.91,0,0,1,.58,1.4,1.91,1.91,0,0,1-.58,1.4L9.25,21ZM18.45,9,17,7.55Zm-12,3A5.31,5.31,0,0,0,4.9,8.1,5.31,5.31,0,0,0,1,6.5,5.31,5.31,0,0,0,4.9,4.9,5.31,5.31,0,0,0,6.5,1,5.31,5.31,0,0,0,8.1,4.9,5.31,5.31,0,0,0,12,6.5,5.46,5.46,0,0,0,6.5,12Z\"/>\n",
              "  </svg>\n",
              "    </button>\n",
              "    <script>\n",
              "      (() => {\n",
              "      const buttonEl =\n",
              "        document.querySelector('#id_a0b46906-b8ea-4264-b451-25e9788509d7 button.colab-df-generate');\n",
              "      buttonEl.style.display =\n",
              "        google.colab.kernel.accessAllowed ? 'block' : 'none';\n",
              "\n",
              "      buttonEl.onclick = () => {\n",
              "        google.colab.notebook.generateWithVariable('filterData');\n",
              "      }\n",
              "      })();\n",
              "    </script>\n",
              "  </div>\n",
              "\n",
              "    </div>\n",
              "  </div>\n"
            ],
            "application/vnd.google.colaboratory.intrinsic+json": {
              "type": "dataframe",
              "variable_name": "filterData",
              "summary": "{\n  \"name\": \"filterData\",\n  \"rows\": 112,\n  \"fields\": [\n    {\n      \"column\": \"Product\",\n      \"properties\": {\n        \"dtype\": \"category\",\n        \"num_unique_values\": 11,\n        \"samples\": [\n          \"Renewables and waste\",\n          \"Coal, peat and oil shale\",\n          \"Fossil fuels\"\n        ],\n        \"semantic_type\": \"\",\n        \"description\": \"\"\n      }\n    },\n    {\n      \"column\": \"Flow\",\n      \"properties\": {\n        \"dtype\": \"category\",\n        \"num_unique_values\": 13,\n        \"samples\": [\n          \"Other final consumption (PJ)\",\n          \"Residential (PJ)\",\n          \"Production (PJ)\"\n        ],\n        \"semantic_type\": \"\",\n        \"description\": \"\"\n      }\n    },\n    {\n      \"column\": \"2022\",\n      \"properties\": {\n        \"dtype\": \"string\",\n        \"num_unique_values\": 72,\n        \"samples\": [\n          \"-1931\",\n          \"7585\",\n          \"-114\"\n        ],\n        \"semantic_type\": \"\",\n        \"description\": \"\"\n      }\n    }\n  ]\n}"
            }
          },
          "metadata": {}
        }
      ]
    },
    {
      "cell_type": "markdown",
      "source": [
        "5. Filter out rows containing summaries (i.e. Total, Production), different units (GWh) or non-numeric values."
      ],
      "metadata": {
        "id": "zm7v17cIAHkE"
      }
    },
    {
      "cell_type": "code",
      "source": [
        "\"\"\"Filter out Totals and bad characters\"\"\"\n",
        "# Remove rows\n",
        "remove = '|'.join(['Production','Total','GWh'])\n",
        "filterData = filterData[~filterData['Product'].str.contains(remove, na=False)]\n",
        "filterData = filterData[~filterData['Flow'].str.contains(remove, na=False)]\n",
        "\n",
        "# Convert input values to numeric\n",
        "\n",
        "filterData[lastYear] = pd.to_numeric(filterData[lastYear], errors='coerce')\n",
        "filterData = filterData.dropna(subset=[lastYear])"
      ],
      "metadata": {
        "id": "QclZtJU2MvMh"
      },
      "execution_count": 7,
      "outputs": []
    },
    {
      "cell_type": "markdown",
      "source": [
        "6. Let's match the format in the files for the US example that you can find in the 'example_data' folder."
      ],
      "metadata": {
        "id": "Y-DLC_02Asy6"
      }
    },
    {
      "cell_type": "code",
      "source": [
        "\"\"\"Create dataset table\"\"\"\n",
        "import numpy as np\n",
        "# Rename the columns to define source, target and value\n",
        "filterData.rename(columns={'Flow': 'source', 'Product': 'target', lastYear: 'value'}, inplace=True)\n",
        "\n",
        "# Create a dictionary that maps specific targets to your desired 'type' labels\n",
        "type_map = {\n",
        "    'Renewables and waste': 'Renewables and waste',\n",
        "    'Coal, peat and oil shale': 'Coal, peat and oil shale',\n",
        "    'Crude, NGL and feedstocks': 'Crude, NGL and feedstocks',\n",
        "    'Oil products': 'Oil products',\n",
        "    'Natural gas': 'Natural gas',\n",
        "    'Nuclear': 'Nuclear',\n",
        "    'Electricity': 'Electricity',\n",
        "    'Heat': 'Heat',\n",
        "    'Total': 'Total'\n",
        "}\n",
        "\n",
        "# Assign 'type' based on the 'target' value (default to 'Other' if no match)\n",
        "filterData['type'] = filterData['target'].map(type_map).fillna('Other')\n",
        "\n",
        "# Get absolute values to display exports\n",
        "filterData['value'] = filterData['value'].abs()\n",
        "\n",
        "# Create groupings - attributes all rows with the right element to a group defined by the left element\n",
        "groups = [['Electricity','Electricity'], ['Oil products','Oil refineries']]\n",
        "for g in groups:\n",
        "    filterData['target'] = [\n",
        "        g[0] if g[1] in row['target'] else row['target']\n",
        "        for _, row in filterData.iterrows()\n",
        "    ]\n",
        "\n",
        "# Order data so that imports are considered a source and not a target\n",
        "orderData = filterData.copy()\n",
        "importRows = np.where(['Imports' in t for t in filterData['target']])[0]\n",
        "\n",
        "# Swap source and target for those rows\n",
        "orderData.loc[importRows, 'source'] = filterData.loc[importRows, 'target']\n",
        "orderData.loc[importRows, 'target'] = filterData.loc[importRows, 'source']\n",
        "\n",
        "display(orderData)\n"
      ],
      "metadata": {
        "id": "a9yqcjKRAedh",
        "outputId": "5195bbc2-e350-41d9-b6a2-1cad3215e879",
        "colab": {
          "base_uri": "https://localhost:8080/",
          "height": 424
        }
      },
      "execution_count": 9,
      "outputs": [
        {
          "output_type": "display_data",
          "data": {
            "text/plain": [
              "                        target                                 source  value  \\\n",
              "2161  Coal, peat and oil shale                           Imports (PJ)   2855   \n",
              "2162  Coal, peat and oil shale                           Exports (PJ)      0   \n",
              "2164  Coal, peat and oil shale  Electricity, CHP and heat plants (PJ)   1931   \n",
              "2165  Coal, peat and oil shale    Oil refineries, transformation (PJ)      0   \n",
              "2167  Coal, peat and oil shale                          Industry (PJ)    340   \n",
              "...                        ...                                    ...    ...   \n",
              "2251                      Heat                          Industry (PJ)    140   \n",
              "2252                      Heat                         Transport (PJ)      0   \n",
              "2253                      Heat                       Residential (PJ)     87   \n",
              "2254                      Heat    Commercial and public services (PJ)     13   \n",
              "2255                      Heat           Other final consumption (PJ)      0   \n",
              "\n",
              "                          type  \n",
              "2161  Coal, peat and oil shale  \n",
              "2162  Coal, peat and oil shale  \n",
              "2164  Coal, peat and oil shale  \n",
              "2165  Coal, peat and oil shale  \n",
              "2167  Coal, peat and oil shale  \n",
              "...                        ...  \n",
              "2251                      Heat  \n",
              "2252                      Heat  \n",
              "2253                      Heat  \n",
              "2254                      Heat  \n",
              "2255                      Heat  \n",
              "\n",
              "[72 rows x 4 columns]"
            ],
            "text/html": [
              "\n",
              "  <div id=\"df-f88e8439-7c9f-4e62-acb6-de2901493d2a\" class=\"colab-df-container\">\n",
              "    <div>\n",
              "<style scoped>\n",
              "    .dataframe tbody tr th:only-of-type {\n",
              "        vertical-align: middle;\n",
              "    }\n",
              "\n",
              "    .dataframe tbody tr th {\n",
              "        vertical-align: top;\n",
              "    }\n",
              "\n",
              "    .dataframe thead th {\n",
              "        text-align: right;\n",
              "    }\n",
              "</style>\n",
              "<table border=\"1\" class=\"dataframe\">\n",
              "  <thead>\n",
              "    <tr style=\"text-align: right;\">\n",
              "      <th></th>\n",
              "      <th>target</th>\n",
              "      <th>source</th>\n",
              "      <th>value</th>\n",
              "      <th>type</th>\n",
              "    </tr>\n",
              "  </thead>\n",
              "  <tbody>\n",
              "    <tr>\n",
              "      <th>2161</th>\n",
              "      <td>Coal, peat and oil shale</td>\n",
              "      <td>Imports (PJ)</td>\n",
              "      <td>2855</td>\n",
              "      <td>Coal, peat and oil shale</td>\n",
              "    </tr>\n",
              "    <tr>\n",
              "      <th>2162</th>\n",
              "      <td>Coal, peat and oil shale</td>\n",
              "      <td>Exports (PJ)</td>\n",
              "      <td>0</td>\n",
              "      <td>Coal, peat and oil shale</td>\n",
              "    </tr>\n",
              "    <tr>\n",
              "      <th>2164</th>\n",
              "      <td>Coal, peat and oil shale</td>\n",
              "      <td>Electricity, CHP and heat plants (PJ)</td>\n",
              "      <td>1931</td>\n",
              "      <td>Coal, peat and oil shale</td>\n",
              "    </tr>\n",
              "    <tr>\n",
              "      <th>2165</th>\n",
              "      <td>Coal, peat and oil shale</td>\n",
              "      <td>Oil refineries, transformation (PJ)</td>\n",
              "      <td>0</td>\n",
              "      <td>Coal, peat and oil shale</td>\n",
              "    </tr>\n",
              "    <tr>\n",
              "      <th>2167</th>\n",
              "      <td>Coal, peat and oil shale</td>\n",
              "      <td>Industry (PJ)</td>\n",
              "      <td>340</td>\n",
              "      <td>Coal, peat and oil shale</td>\n",
              "    </tr>\n",
              "    <tr>\n",
              "      <th>...</th>\n",
              "      <td>...</td>\n",
              "      <td>...</td>\n",
              "      <td>...</td>\n",
              "      <td>...</td>\n",
              "    </tr>\n",
              "    <tr>\n",
              "      <th>2251</th>\n",
              "      <td>Heat</td>\n",
              "      <td>Industry (PJ)</td>\n",
              "      <td>140</td>\n",
              "      <td>Heat</td>\n",
              "    </tr>\n",
              "    <tr>\n",
              "      <th>2252</th>\n",
              "      <td>Heat</td>\n",
              "      <td>Transport (PJ)</td>\n",
              "      <td>0</td>\n",
              "      <td>Heat</td>\n",
              "    </tr>\n",
              "    <tr>\n",
              "      <th>2253</th>\n",
              "      <td>Heat</td>\n",
              "      <td>Residential (PJ)</td>\n",
              "      <td>87</td>\n",
              "      <td>Heat</td>\n",
              "    </tr>\n",
              "    <tr>\n",
              "      <th>2254</th>\n",
              "      <td>Heat</td>\n",
              "      <td>Commercial and public services (PJ)</td>\n",
              "      <td>13</td>\n",
              "      <td>Heat</td>\n",
              "    </tr>\n",
              "    <tr>\n",
              "      <th>2255</th>\n",
              "      <td>Heat</td>\n",
              "      <td>Other final consumption (PJ)</td>\n",
              "      <td>0</td>\n",
              "      <td>Heat</td>\n",
              "    </tr>\n",
              "  </tbody>\n",
              "</table>\n",
              "<p>72 rows × 4 columns</p>\n",
              "</div>\n",
              "    <div class=\"colab-df-buttons\">\n",
              "\n",
              "  <div class=\"colab-df-container\">\n",
              "    <button class=\"colab-df-convert\" onclick=\"convertToInteractive('df-f88e8439-7c9f-4e62-acb6-de2901493d2a')\"\n",
              "            title=\"Convert this dataframe to an interactive table.\"\n",
              "            style=\"display:none;\">\n",
              "\n",
              "  <svg xmlns=\"http://www.w3.org/2000/svg\" height=\"24px\" viewBox=\"0 -960 960 960\">\n",
              "    <path d=\"M120-120v-720h720v720H120Zm60-500h600v-160H180v160Zm220 220h160v-160H400v160Zm0 220h160v-160H400v160ZM180-400h160v-160H180v160Zm440 0h160v-160H620v160ZM180-180h160v-160H180v160Zm440 0h160v-160H620v160Z\"/>\n",
              "  </svg>\n",
              "    </button>\n",
              "\n",
              "  <style>\n",
              "    .colab-df-container {\n",
              "      display:flex;\n",
              "      gap: 12px;\n",
              "    }\n",
              "\n",
              "    .colab-df-convert {\n",
              "      background-color: #E8F0FE;\n",
              "      border: none;\n",
              "      border-radius: 50%;\n",
              "      cursor: pointer;\n",
              "      display: none;\n",
              "      fill: #1967D2;\n",
              "      height: 32px;\n",
              "      padding: 0 0 0 0;\n",
              "      width: 32px;\n",
              "    }\n",
              "\n",
              "    .colab-df-convert:hover {\n",
              "      background-color: #E2EBFA;\n",
              "      box-shadow: 0px 1px 2px rgba(60, 64, 67, 0.3), 0px 1px 3px 1px rgba(60, 64, 67, 0.15);\n",
              "      fill: #174EA6;\n",
              "    }\n",
              "\n",
              "    .colab-df-buttons div {\n",
              "      margin-bottom: 4px;\n",
              "    }\n",
              "\n",
              "    [theme=dark] .colab-df-convert {\n",
              "      background-color: #3B4455;\n",
              "      fill: #D2E3FC;\n",
              "    }\n",
              "\n",
              "    [theme=dark] .colab-df-convert:hover {\n",
              "      background-color: #434B5C;\n",
              "      box-shadow: 0px 1px 3px 1px rgba(0, 0, 0, 0.15);\n",
              "      filter: drop-shadow(0px 1px 2px rgba(0, 0, 0, 0.3));\n",
              "      fill: #FFFFFF;\n",
              "    }\n",
              "  </style>\n",
              "\n",
              "    <script>\n",
              "      const buttonEl =\n",
              "        document.querySelector('#df-f88e8439-7c9f-4e62-acb6-de2901493d2a button.colab-df-convert');\n",
              "      buttonEl.style.display =\n",
              "        google.colab.kernel.accessAllowed ? 'block' : 'none';\n",
              "\n",
              "      async function convertToInteractive(key) {\n",
              "        const element = document.querySelector('#df-f88e8439-7c9f-4e62-acb6-de2901493d2a');\n",
              "        const dataTable =\n",
              "          await google.colab.kernel.invokeFunction('convertToInteractive',\n",
              "                                                    [key], {});\n",
              "        if (!dataTable) return;\n",
              "\n",
              "        const docLinkHtml = 'Like what you see? Visit the ' +\n",
              "          '<a target=\"_blank\" href=https://colab.research.google.com/notebooks/data_table.ipynb>data table notebook</a>'\n",
              "          + ' to learn more about interactive tables.';\n",
              "        element.innerHTML = '';\n",
              "        dataTable['output_type'] = 'display_data';\n",
              "        await google.colab.output.renderOutput(dataTable, element);\n",
              "        const docLink = document.createElement('div');\n",
              "        docLink.innerHTML = docLinkHtml;\n",
              "        element.appendChild(docLink);\n",
              "      }\n",
              "    </script>\n",
              "  </div>\n",
              "\n",
              "\n",
              "<div id=\"df-8cee10e9-cf03-4c31-8651-e9f63abcd925\">\n",
              "  <button class=\"colab-df-quickchart\" onclick=\"quickchart('df-8cee10e9-cf03-4c31-8651-e9f63abcd925')\"\n",
              "            title=\"Suggest charts\"\n",
              "            style=\"display:none;\">\n",
              "\n",
              "<svg xmlns=\"http://www.w3.org/2000/svg\" height=\"24px\"viewBox=\"0 0 24 24\"\n",
              "     width=\"24px\">\n",
              "    <g>\n",
              "        <path d=\"M19 3H5c-1.1 0-2 .9-2 2v14c0 1.1.9 2 2 2h14c1.1 0 2-.9 2-2V5c0-1.1-.9-2-2-2zM9 17H7v-7h2v7zm4 0h-2V7h2v10zm4 0h-2v-4h2v4z\"/>\n",
              "    </g>\n",
              "</svg>\n",
              "  </button>\n",
              "\n",
              "<style>\n",
              "  .colab-df-quickchart {\n",
              "      --bg-color: #E8F0FE;\n",
              "      --fill-color: #1967D2;\n",
              "      --hover-bg-color: #E2EBFA;\n",
              "      --hover-fill-color: #174EA6;\n",
              "      --disabled-fill-color: #AAA;\n",
              "      --disabled-bg-color: #DDD;\n",
              "  }\n",
              "\n",
              "  [theme=dark] .colab-df-quickchart {\n",
              "      --bg-color: #3B4455;\n",
              "      --fill-color: #D2E3FC;\n",
              "      --hover-bg-color: #434B5C;\n",
              "      --hover-fill-color: #FFFFFF;\n",
              "      --disabled-bg-color: #3B4455;\n",
              "      --disabled-fill-color: #666;\n",
              "  }\n",
              "\n",
              "  .colab-df-quickchart {\n",
              "    background-color: var(--bg-color);\n",
              "    border: none;\n",
              "    border-radius: 50%;\n",
              "    cursor: pointer;\n",
              "    display: none;\n",
              "    fill: var(--fill-color);\n",
              "    height: 32px;\n",
              "    padding: 0;\n",
              "    width: 32px;\n",
              "  }\n",
              "\n",
              "  .colab-df-quickchart:hover {\n",
              "    background-color: var(--hover-bg-color);\n",
              "    box-shadow: 0 1px 2px rgba(60, 64, 67, 0.3), 0 1px 3px 1px rgba(60, 64, 67, 0.15);\n",
              "    fill: var(--button-hover-fill-color);\n",
              "  }\n",
              "\n",
              "  .colab-df-quickchart-complete:disabled,\n",
              "  .colab-df-quickchart-complete:disabled:hover {\n",
              "    background-color: var(--disabled-bg-color);\n",
              "    fill: var(--disabled-fill-color);\n",
              "    box-shadow: none;\n",
              "  }\n",
              "\n",
              "  .colab-df-spinner {\n",
              "    border: 2px solid var(--fill-color);\n",
              "    border-color: transparent;\n",
              "    border-bottom-color: var(--fill-color);\n",
              "    animation:\n",
              "      spin 1s steps(1) infinite;\n",
              "  }\n",
              "\n",
              "  @keyframes spin {\n",
              "    0% {\n",
              "      border-color: transparent;\n",
              "      border-bottom-color: var(--fill-color);\n",
              "      border-left-color: var(--fill-color);\n",
              "    }\n",
              "    20% {\n",
              "      border-color: transparent;\n",
              "      border-left-color: var(--fill-color);\n",
              "      border-top-color: var(--fill-color);\n",
              "    }\n",
              "    30% {\n",
              "      border-color: transparent;\n",
              "      border-left-color: var(--fill-color);\n",
              "      border-top-color: var(--fill-color);\n",
              "      border-right-color: var(--fill-color);\n",
              "    }\n",
              "    40% {\n",
              "      border-color: transparent;\n",
              "      border-right-color: var(--fill-color);\n",
              "      border-top-color: var(--fill-color);\n",
              "    }\n",
              "    60% {\n",
              "      border-color: transparent;\n",
              "      border-right-color: var(--fill-color);\n",
              "    }\n",
              "    80% {\n",
              "      border-color: transparent;\n",
              "      border-right-color: var(--fill-color);\n",
              "      border-bottom-color: var(--fill-color);\n",
              "    }\n",
              "    90% {\n",
              "      border-color: transparent;\n",
              "      border-bottom-color: var(--fill-color);\n",
              "    }\n",
              "  }\n",
              "</style>\n",
              "\n",
              "  <script>\n",
              "    async function quickchart(key) {\n",
              "      const quickchartButtonEl =\n",
              "        document.querySelector('#' + key + ' button');\n",
              "      quickchartButtonEl.disabled = true;  // To prevent multiple clicks.\n",
              "      quickchartButtonEl.classList.add('colab-df-spinner');\n",
              "      try {\n",
              "        const charts = await google.colab.kernel.invokeFunction(\n",
              "            'suggestCharts', [key], {});\n",
              "      } catch (error) {\n",
              "        console.error('Error during call to suggestCharts:', error);\n",
              "      }\n",
              "      quickchartButtonEl.classList.remove('colab-df-spinner');\n",
              "      quickchartButtonEl.classList.add('colab-df-quickchart-complete');\n",
              "    }\n",
              "    (() => {\n",
              "      let quickchartButtonEl =\n",
              "        document.querySelector('#df-8cee10e9-cf03-4c31-8651-e9f63abcd925 button');\n",
              "      quickchartButtonEl.style.display =\n",
              "        google.colab.kernel.accessAllowed ? 'block' : 'none';\n",
              "    })();\n",
              "  </script>\n",
              "</div>\n",
              "\n",
              "  <div id=\"id_8aca9fbe-11de-44e3-bd0f-1b1ba845a84e\">\n",
              "    <style>\n",
              "      .colab-df-generate {\n",
              "        background-color: #E8F0FE;\n",
              "        border: none;\n",
              "        border-radius: 50%;\n",
              "        cursor: pointer;\n",
              "        display: none;\n",
              "        fill: #1967D2;\n",
              "        height: 32px;\n",
              "        padding: 0 0 0 0;\n",
              "        width: 32px;\n",
              "      }\n",
              "\n",
              "      .colab-df-generate:hover {\n",
              "        background-color: #E2EBFA;\n",
              "        box-shadow: 0px 1px 2px rgba(60, 64, 67, 0.3), 0px 1px 3px 1px rgba(60, 64, 67, 0.15);\n",
              "        fill: #174EA6;\n",
              "      }\n",
              "\n",
              "      [theme=dark] .colab-df-generate {\n",
              "        background-color: #3B4455;\n",
              "        fill: #D2E3FC;\n",
              "      }\n",
              "\n",
              "      [theme=dark] .colab-df-generate:hover {\n",
              "        background-color: #434B5C;\n",
              "        box-shadow: 0px 1px 3px 1px rgba(0, 0, 0, 0.15);\n",
              "        filter: drop-shadow(0px 1px 2px rgba(0, 0, 0, 0.3));\n",
              "        fill: #FFFFFF;\n",
              "      }\n",
              "    </style>\n",
              "    <button class=\"colab-df-generate\" onclick=\"generateWithVariable('orderData')\"\n",
              "            title=\"Generate code using this dataframe.\"\n",
              "            style=\"display:none;\">\n",
              "\n",
              "  <svg xmlns=\"http://www.w3.org/2000/svg\" height=\"24px\"viewBox=\"0 0 24 24\"\n",
              "       width=\"24px\">\n",
              "    <path d=\"M7,19H8.4L18.45,9,17,7.55,7,17.6ZM5,21V16.75L18.45,3.32a2,2,0,0,1,2.83,0l1.4,1.43a1.91,1.91,0,0,1,.58,1.4,1.91,1.91,0,0,1-.58,1.4L9.25,21ZM18.45,9,17,7.55Zm-12,3A5.31,5.31,0,0,0,4.9,8.1,5.31,5.31,0,0,0,1,6.5,5.31,5.31,0,0,0,4.9,4.9,5.31,5.31,0,0,0,6.5,1,5.31,5.31,0,0,0,8.1,4.9,5.31,5.31,0,0,0,12,6.5,5.46,5.46,0,0,0,6.5,12Z\"/>\n",
              "  </svg>\n",
              "    </button>\n",
              "    <script>\n",
              "      (() => {\n",
              "      const buttonEl =\n",
              "        document.querySelector('#id_8aca9fbe-11de-44e3-bd0f-1b1ba845a84e button.colab-df-generate');\n",
              "      buttonEl.style.display =\n",
              "        google.colab.kernel.accessAllowed ? 'block' : 'none';\n",
              "\n",
              "      buttonEl.onclick = () => {\n",
              "        google.colab.notebook.generateWithVariable('orderData');\n",
              "      }\n",
              "      })();\n",
              "    </script>\n",
              "  </div>\n",
              "\n",
              "    </div>\n",
              "  </div>\n"
            ],
            "application/vnd.google.colaboratory.intrinsic+json": {
              "type": "dataframe",
              "variable_name": "orderData",
              "summary": "{\n  \"name\": \"orderData\",\n  \"rows\": 72,\n  \"fields\": [\n    {\n      \"column\": \"target\",\n      \"properties\": {\n        \"dtype\": \"category\",\n        \"num_unique_values\": 8,\n        \"samples\": [\n          \"Crude, NGL and feedstocks\",\n          \"Renewables and waste\",\n          \"Coal, peat and oil shale\"\n        ],\n        \"semantic_type\": \"\",\n        \"description\": \"\"\n      }\n    },\n    {\n      \"column\": \"source\",\n      \"properties\": {\n        \"dtype\": \"category\",\n        \"num_unique_values\": 9,\n        \"samples\": [\n          \"Commercial and public services (PJ)\",\n          \"Exports (PJ)\",\n          \"Transport (PJ)\"\n        ],\n        \"semantic_type\": \"\",\n        \"description\": \"\"\n      }\n    },\n    {\n      \"column\": \"value\",\n      \"properties\": {\n        \"dtype\": \"number\",\n        \"std\": 1449,\n        \"min\": 0,\n        \"max\": 7030,\n        \"num_unique_values\": 41,\n        \"samples\": [\n          134,\n          6819,\n          11\n        ],\n        \"semantic_type\": \"\",\n        \"description\": \"\"\n      }\n    },\n    {\n      \"column\": \"type\",\n      \"properties\": {\n        \"dtype\": \"category\",\n        \"num_unique_values\": 8,\n        \"samples\": [\n          \"Crude, NGL and feedstocks\",\n          \"Renewables and waste\",\n          \"Coal, peat and oil shale\"\n        ],\n        \"semantic_type\": \"\",\n        \"description\": \"\"\n      }\n    }\n  ]\n}"
            }
          },
          "metadata": {}
        }
      ]
    },
    {
      "cell_type": "markdown",
      "source": [
        "7. Let's display all the individual sources and targets and attribute them to process groups for our Sankey diagram."
      ],
      "metadata": {
        "id": "U5sWPIkTitba"
      }
    },
    {
      "cell_type": "code",
      "source": [
        "\"\"\"Display individual sources and targets\"\"\"\n",
        "display(orderData['source'].unique(), orderData['target'].unique())"
      ],
      "metadata": {
        "id": "rNyz6PN5zMSn",
        "outputId": "1d757ced-d81d-4a17-d6e6-201dbad0307e",
        "colab": {
          "base_uri": "https://localhost:8080/",
          "height": 178
        }
      },
      "execution_count": 10,
      "outputs": [
        {
          "output_type": "display_data",
          "data": {
            "text/plain": [
              "array(['Imports (PJ)', 'Exports (PJ)',\n",
              "       'Electricity, CHP and heat plants (PJ)',\n",
              "       'Oil refineries, transformation (PJ)', 'Industry (PJ)',\n",
              "       'Transport (PJ)', 'Residential (PJ)',\n",
              "       'Commercial and public services (PJ)',\n",
              "       'Other final consumption (PJ)'], dtype=object)"
            ]
          },
          "metadata": {}
        },
        {
          "output_type": "display_data",
          "data": {
            "text/plain": [
              "array(['Coal, peat and oil shale', 'Crude, NGL and feedstocks',\n",
              "       'Oil products', 'Natural gas', 'Nuclear', 'Renewables and waste',\n",
              "       'Electricity', 'Heat'], dtype=object)"
            ]
          },
          "metadata": {}
        }
      ]
    },
    {
      "cell_type": "code",
      "source": [
        "\"\"\"Attribute to process groups\"\"\"\n",
        "\n",
        "# Sources: Primary energy resources\n",
        "sources = [\n",
        "    'Coal, peat and oil shale',\n",
        "    'Crude, NGL and feedstocks',\n",
        "    'Oil products',\n",
        "    'Natural gas',\n",
        "    'Nuclear',\n",
        "    'Renewables and waste'\n",
        "]\n",
        "\n",
        "# Electricity (and heat) as a separate group (optional):\n",
        "electricity = [\n",
        "    'Electricity',\n",
        "    'Heat'\n",
        "]\n",
        "\n",
        "# Imports\n",
        "imports = [\n",
        "    'Imports (PJ)'\n",
        "]\n",
        "\n",
        "# Exports\n",
        "exports = [\n",
        "    'Exports (PJ)'\n",
        "]\n",
        "\n",
        "# Refining or transformation processes\n",
        "refining = [\n",
        "    'Oil refineries, transformation (PJ)'\n",
        "]\n",
        "\n",
        "# Uses: end-use sectors\n",
        "uses = [\n",
        "    'Industry (PJ)',\n",
        "    'Transport (PJ)',\n",
        "    'Residential (PJ)',\n",
        "    'Commercial and public services (PJ)',\n",
        "    'Other final consumption (PJ)'\n",
        "]\n"
      ],
      "metadata": {
        "id": "QCYGtF-uzQY2"
      },
      "execution_count": 11,
      "outputs": []
    },
    {
      "cell_type": "markdown",
      "source": [
        "8. Create process table as in us-energy-consumption-processes.csv"
      ],
      "metadata": {
        "id": "5oUsLPrKDXFa"
      }
    },
    {
      "cell_type": "code",
      "source": [
        "\"\"\"Get all unique types of sources and targets listed in products and flows respectively\"\"\"\n",
        "idColumn = np.concatenate((sources,uses))\n",
        "typeColumn = ['source']*len(sources)+['use']*len(uses)\n",
        "processes = pd.DataFrame(np.array([idColumn,typeColumn]).transpose(), columns=['id','type'])"
      ],
      "metadata": {
        "id": "l0_lBNM0DYMr"
      },
      "execution_count": 12,
      "outputs": []
    },
    {
      "cell_type": "markdown",
      "source": [
        "We now have the same tables as used in the US example. Time to build our own Sankey!"
      ],
      "metadata": {
        "id": "KTEMYlKiTOFQ"
      }
    },
    {
      "cell_type": "code",
      "source": [
        "\"\"\"Load the dataset\"\"\"\n",
        "dataset = Dataset(orderData, dim_process=processes.set_index('id'))"
      ],
      "metadata": {
        "id": "CwieA1CPTMFB"
      },
      "execution_count": 14,
      "outputs": []
    },
    {
      "cell_type": "markdown",
      "source": [
        "9. Fetch the Sankey definition for the US energy consumption example from the `\"\"\"define the Sankey diagram definition\"\"\"` box, adapt this to fit with your new process groups defined in step 7. Adapting the flows can be quite fiddly, so start simple by commenting most lines out and begin with just 2 nodes, their ordering and a bundle linking them. Build this up by thinking effectively about the order of the flows. If you've spent over 30 minutes trying to work this out without success consider the solution sheet, but it's worth getting a bit frustrated first to understand how these flows hold together."
      ],
      "metadata": {
        "id": "IsEQ9EAHidc9"
      }
    },
    {
      "cell_type": "code",
      "source": [
        "\"\"\"Define the Sankey diagram definition\"\"\"\n",
        "xnnodes = {\n",
        "    'sources': ProcessGroup('type == \"source\"', Partition.Simple('process', sources), title='Sources'),\n",
        "    'imports': ProcessGroup(['Net_Electricity_Import'], title='Net electricity imports'),\n",
        "    'electricity': ProcessGroup(['Electricity_Generation'], title='Electricity Generation'),\n",
        "    'uses': ProcessGroup('type == \"use\"', partition=Partition.Simple('process', uses)),\n",
        "\n",
        "    'energy_services': ProcessGroup(['Energy_Services'], title='Energy services'),\n",
        "    'rejected': ProcessGroup(['Rejected_Energy'], title='Rejected energy'),\n",
        "\n",
        "    'direct_use': Waypoint(Partition.Simple('source', [\n",
        "        # This is a hack to hide the labels of the partition, there should be a better way...\n",
        "        (' '*i, [k]) for i, k in enumerate(sources)\n",
        "    ])),\n",
        "}\n",
        "\n",
        "ordering = [\n",
        "    [[], ['sources'], []],\n",
        "    [['imports'], ['electricity', 'direct_use'], []],\n",
        "    [[], ['uses'], []],\n",
        "    [[], ['rejected', 'energy_services'], []]\n",
        "]\n",
        "\n",
        "bundles = [\n",
        "    Bundle('sources', 'electricity'),\n",
        "    Bundle('sources', 'uses', waypoints=['direct_use']),\n",
        "    Bundle('electricity', 'uses'),\n",
        "    Bundle('imports', 'uses'),\n",
        "    Bundle('uses', 'energy_services'),\n",
        "    Bundle('uses', 'rejected'),\n",
        "    Bundle('electricity', 'rejected'),\n",
        "]"
      ],
      "metadata": {
        "id": "b9d2J6dWic5q"
      },
      "execution_count": null,
      "outputs": []
    },
    {
      "cell_type": "code",
      "source": [
        "\"\"\"Define the colours to roughly imitate the original Sankey diagram\"\"\"\n",
        "palette = {\n",
        "    ##Complete here##\n",
        "}"
      ],
      "metadata": {
        "id": "j5pkN2sliKr1"
      },
      "execution_count": null,
      "outputs": []
    },
    {
      "cell_type": "code",
      "source": [
        "\"\"\"Draw out Sankey\"\"\"\n",
        "sdd = SankeyDefinition(nodes, bundles, ordering,\n",
        "                       flow_partition=dataset.partition('type'))\n",
        "weave(sdd, dataset, palette=palette) \\\n",
        "    .to_widget(width=900, height=500, margins=dict(left=100, right=200)) \\\n",
        ".auto_save_svg(country+'Sankey.svg')"
      ],
      "metadata": {
        "id": "_EyAAE6plFVB"
      },
      "execution_count": null,
      "outputs": []
    },
    {
      "cell_type": "markdown",
      "source": [
        "# Task 3 - Let's automate this procedure for any country with just one click."
      ],
      "metadata": {
        "id": "C_UVdtv9S_zO"
      }
    },
    {
      "cell_type": "markdown",
      "source": [
        "Define a function that incorporates all of the previous steps while thinking about still being able to modify it from the outside. The `%%writefile` command writes this function to a Python file when the cell is run."
      ],
      "metadata": {
        "id": "8EHE0BQlTKoG"
      }
    },
    {
      "cell_type": "code",
      "source": [
        "%%writefile draw_sankey.py\n",
        "import numpy as np\n",
        "import pandas as pd\n",
        "from floweaver import *\n",
        "\n",
        "def draw_Country_Sankey()##Complete here##:\n",
        "    \"\"\"This function creates a Sankey diagram for the data contained in the specified\n",
        "    .xlsx file according to the specified parameters\"\"\"\n",
        "      ##Complete here##\n",
        "\n",
        "    # Function definitions for each processing stage\n",
        "    def get_country_data()##Complete here##:\n",
        "        \"\"\"Extract data for desired country from Excel sheet to pandas dataFrame\"\"\"\n",
        "        ##Complete here##\n",
        "\n",
        "    def filter_data()##Complete here##:\n",
        "        \"\"\"Filter dataFrame according to year and removing rows with unused data\"\"\"\n",
        "        ##Complete here##\n",
        "\n",
        "    def format_data()##Complete here##:\n",
        "        \"\"\"Format dataFrame to be in correct format for floweaver\"\"\"\n",
        "        ##Complete here##\n",
        "\n",
        "    def group_processes():\n",
        "        \"\"\"Group inputs and outputs that represent same process\"\"\"\n",
        "        ##Complete here##\n",
        "\n",
        "    def reorder_data()##Complete here##:\n",
        "        \"\"\"Order data so that imports are considered a source and not a target\"\"\"\n",
        "        ##Complete here##\n",
        "\n",
        "    def create_process_df()##Complete here##:\n",
        "        \"\"\"Get all unique types of sources and targets listed in products and flows respectively\"\"\"\n",
        "        ##Complete here##\n",
        "\n",
        "    # Define default parameters\n",
        "    params={\n",
        "        ##Complete here##\n",
        "    }\n",
        "\n",
        "    diagramParams={\n",
        "        ##Complete here##\n",
        "    }\n",
        "\n",
        "    # Update default parameters if other parameters are passed to the function\n",
        "    ##Complete here##\n",
        "\n",
        "    # Data processing\n",
        "    countryData = get_country_data(##Complete here##)\n",
        "    filterData, year = filter_data(##Complete here##)\n",
        "    formattedData = format_data(##Complete here##)\n",
        "    groupData = group_processes(##Complete here##)\n",
        "    orderedData = reorder_data(##Complete here##)\n",
        "\n",
        "    # Create processes\n",
        "    processes = create_process_df(##Complete here##)\n",
        "\n",
        "    # Create Sankey Dataset\n",
        "    dataset = Dataset(##Complete here##)\n",
        "\n",
        "    # Return sankey diagram\n",
        "    sdd = SankeyDefinition(##Complete here##, flow_partition=dataset.partition('type'))\n",
        "    return weave(##Complete here##).to_widget(width=900, height=500, margins=dict(left=100, right=200)) \\\n",
        "    .auto_save_svg(##Complete here##)\n"
      ],
      "metadata": {
        "id": "C9ayL5MjKlp4"
      },
      "execution_count": null,
      "outputs": []
    },
    {
      "cell_type": "markdown",
      "source": [
        "Now import the function you've created from the written file. This could be done from any Jupyter notebook or python script."
      ],
      "metadata": {
        "id": "VgecwLNSEhao"
      }
    },
    {
      "cell_type": "code",
      "source": [
        "# Import function\n",
        "import draw_sankey as ds\n",
        "\n",
        "# Reloads function in case you've already imported it to this notebook\n",
        "from importlib import reload\n",
        "reload(ds)"
      ],
      "metadata": {
        "id": "lIEi8zwhzf9E"
      },
      "execution_count": null,
      "outputs": []
    },
    {
      "cell_type": "code",
      "source": [
        "# Define variables\n",
        "fileName = 'WorldEnergyBalances.csv'\n",
        "country = 'France'\n",
        "year = '2021'\n",
        "\n",
        "# Call function\n",
        "diagram = ds.draw_Country_Sankey(fileName, {'year':year, 'countryName':country})\n",
        "\n",
        "# Display Sankey\n",
        "display(diagram)"
      ],
      "metadata": {
        "id": "MXcm6Erv5O4L"
      },
      "execution_count": null,
      "outputs": []
    },
    {
      "cell_type": "markdown",
      "source": [
        "If this has worked then have a play around and make sure it works for any country by simply modifying the `country` variable."
      ],
      "metadata": {
        "id": "R31MV8K5E6rK"
      }
    },
    {
      "cell_type": "markdown",
      "source": [
        "The solution example is written according to the principles of functional programming, but this could also be written according to object-oriented programming by defining the sankey diagram as a `Class`. If you are a Python expert already and feeling bored why not have a go at re-writing the draw_sankey.py file as a Class definition. Alternatively you could solidify the function you've created with error messages to catch bad inputs or even create a widget which allows you to pick the country you're after off a list rather than typing in the variable."
      ],
      "metadata": {
        "id": "TvWHnhJADiMV"
      }
    }
  ],
  "metadata": {
    "kernelspec": {
      "display_name": "Python 3",
      "language": "python",
      "name": "python3"
    },
    "language_info": {
      "codemirror_mode": {
        "name": "ipython",
        "version": 3
      },
      "file_extension": ".py",
      "mimetype": "text/x-python",
      "name": "python",
      "nbconvert_exporter": "python",
      "pygments_lexer": "ipython3",
      "version": "3.7.6"
    },
    "colab": {
      "name": "energy-consumption.ipynb",
      "provenance": [],
      "include_colab_link": true
    },
    "widgets": {
      "application/vnd.jupyter.widget-state+json": {
        "2b49224528fc42c78fb9a2f135064ffd": {
          "model_module": "@jupyter-widgets/controls",
          "model_name": "VBoxModel",
          "model_module_version": "1.5.0",
          "state": {
            "_dom_classes": [],
            "_model_module": "@jupyter-widgets/controls",
            "_model_module_version": "1.5.0",
            "_model_name": "VBoxModel",
            "_view_count": null,
            "_view_module": "@jupyter-widgets/controls",
            "_view_module_version": "1.5.0",
            "_view_name": "VBoxView",
            "box_style": "",
            "children": [
              "IPY_MODEL_bc37f82f8f4044d281d6add67250f3fd",
              "IPY_MODEL_c61316bdaf44461bac9e137f7027ed9e"
            ],
            "layout": "IPY_MODEL_3884df3bab6e480381094afb3784d9db"
          }
        },
        "bc37f82f8f4044d281d6add67250f3fd": {
          "model_module": "jupyter-sankey-widget",
          "model_name": "SankeyModel",
          "model_module_version": "^0.5.0",
          "state": {
            "_dom_classes": [],
            "_model_module": "jupyter-sankey-widget",
            "_model_module_version": "^0.5.0",
            "_model_name": "SankeyModel",
            "_view_count": null,
            "_view_module": "jupyter-sankey-widget",
            "_view_module_version": "^0.5.0",
            "_view_name": "SankeyView",
            "align_link_types": false,
            "groups": [
              {
                "id": "sources",
                "type": "process",
                "title": "Sources",
                "nodes": [
                  "sources^Solar",
                  "sources^Nuclear",
                  "sources^Hydro",
                  "sources^Wind",
                  "sources^Geothermal",
                  "sources^Natural_Gas",
                  "sources^Coal",
                  "sources^Biomass",
                  "sources^Petroleum"
                ]
              },
              {
                "id": "direct_use",
                "type": "group",
                "title": "",
                "nodes": [
                  "direct_use^",
                  "direct_use^    ",
                  "direct_use^     ",
                  "direct_use^      ",
                  "direct_use^       ",
                  "direct_use^        "
                ]
              },
              {
                "id": "__electricity_rejected_2",
                "type": "group",
                "title": "",
                "nodes": [
                  "__electricity_rejected_2^*"
                ]
              },
              {
                "id": "uses",
                "type": "process",
                "title": "",
                "nodes": [
                  "uses^Residential",
                  "uses^Commercial",
                  "uses^Industrial",
                  "uses^Transportation"
                ]
              }
            ],
            "layout": "IPY_MODEL_4c13f3f11fc441eb8fea77ea1a41a351",
            "linkLabelFormat": "",
            "linkLabelMinWidth": 5,
            "links": [
              {
                "source": "sources^Solar",
                "target": "electricity^*",
                "type": "Solar",
                "time": "*",
                "value": 0.61,
                "title": "Solar",
                "color": "gold",
                "opacity": 1,
                "data": {
                  "value": 0.61
                }
              },
              {
                "source": "sources^Solar",
                "target": "direct_use^",
                "type": "Solar",
                "time": "*",
                "value": 0.35,
                "title": "Solar",
                "color": "gold",
                "opacity": 1,
                "data": {
                  "value": 0.35
                }
              },
              {
                "source": "sources^Nuclear",
                "target": "electricity^*",
                "type": "Nuclear",
                "time": "*",
                "value": 8.44,
                "title": "Nuclear",
                "color": "red",
                "opacity": 1,
                "data": {
                  "value": 8.44
                }
              },
              {
                "source": "sources^Hydro",
                "target": "electricity^*",
                "type": "Hydro",
                "time": "*",
                "value": 2.6799999999999997,
                "title": "Hydro",
                "color": "blue",
                "opacity": 1,
                "data": {
                  "value": 2.6799999999999997
                }
              },
              {
                "source": "sources^Wind",
                "target": "electricity^*",
                "type": "Wind",
                "time": "*",
                "value": 2.53,
                "title": "Wind",
                "color": "purple",
                "opacity": 1,
                "data": {
                  "value": 2.53
                }
              },
              {
                "source": "sources^Geothermal",
                "target": "electricity^*",
                "type": "Geothermal",
                "time": "*",
                "value": 0.15,
                "title": "Geothermal",
                "color": "brown",
                "opacity": 1,
                "data": {
                  "value": 0.15
                }
              },
              {
                "source": "sources^Geothermal",
                "target": "direct_use^    ",
                "type": "Geothermal",
                "time": "*",
                "value": 0.06,
                "title": "Geothermal",
                "color": "brown",
                "opacity": 1,
                "data": {
                  "value": 0.06
                }
              },
              {
                "source": "sources^Natural_Gas",
                "target": "electricity^*",
                "type": "Natural_Gas",
                "time": "*",
                "value": 11,
                "title": "Natural_Gas",
                "color": "steelblue",
                "opacity": 1,
                "data": {
                  "value": 11
                }
              },
              {
                "source": "sources^Natural_Gas",
                "target": "direct_use^     ",
                "type": "Natural_Gas",
                "time": "*",
                "value": 20.03,
                "title": "Natural_Gas",
                "color": "steelblue",
                "opacity": 1,
                "data": {
                  "value": 20.03
                }
              },
              {
                "source": "sources^Coal",
                "target": "electricity^*",
                "type": "Coal",
                "time": "*",
                "value": 12.1,
                "title": "Coal",
                "color": "black",
                "opacity": 1,
                "data": {
                  "value": 12.1
                }
              },
              {
                "source": "sources^Coal",
                "target": "direct_use^      ",
                "type": "Coal",
                "time": "*",
                "value": 1.22,
                "title": "Coal",
                "color": "black",
                "opacity": 1,
                "data": {
                  "value": 1.22
                }
              },
              {
                "source": "sources^Biomass",
                "target": "electricity^*",
                "type": "Biomass",
                "time": "*",
                "value": 0.5,
                "title": "Biomass",
                "color": "lightgreen",
                "opacity": 1,
                "data": {
                  "value": 0.5
                }
              },
              {
                "source": "sources^Biomass",
                "target": "direct_use^       ",
                "type": "Biomass",
                "time": "*",
                "value": 4.63,
                "title": "Biomass",
                "color": "lightgreen",
                "opacity": 1,
                "data": {
                  "value": 4.63
                }
              },
              {
                "source": "sources^Petroleum",
                "target": "electricity^*",
                "type": "Petroleum",
                "time": "*",
                "value": 0.24,
                "title": "Petroleum",
                "color": "green",
                "opacity": 1,
                "data": {
                  "value": 0.24
                }
              },
              {
                "source": "sources^Petroleum",
                "target": "direct_use^        ",
                "type": "Petroleum",
                "time": "*",
                "value": 36.67,
                "title": "Petroleum",
                "color": "green",
                "opacity": 1,
                "data": {
                  "value": 36.67
                }
              },
              {
                "source": "imports^*",
                "target": "uses^Residential",
                "type": "Electricity",
                "time": "*",
                "value": 0.05,
                "title": "Electricity",
                "color": "orange",
                "opacity": 1,
                "data": {
                  "value": 0.05
                }
              },
              {
                "source": "electricity^*",
                "target": "uses^Commercial",
                "type": "Electricity",
                "time": "*",
                "value": 4.7,
                "title": "Electricity",
                "color": "orange",
                "opacity": 1,
                "data": {
                  "value": 4.7
                }
              },
              {
                "source": "electricity^*",
                "target": "uses^Industrial",
                "type": "Electricity",
                "time": "*",
                "value": 3.25,
                "title": "Electricity",
                "color": "orange",
                "opacity": 1,
                "data": {
                  "value": 3.25
                }
              },
              {
                "source": "electricity^*",
                "target": "uses^Residential",
                "type": "Electricity",
                "time": "*",
                "value": 5,
                "title": "Electricity",
                "color": "orange",
                "opacity": 1,
                "data": {
                  "value": 5
                }
              },
              {
                "source": "electricity^*",
                "target": "uses^Transportation",
                "type": "Electricity",
                "time": "*",
                "value": 0.03,
                "title": "Electricity",
                "color": "orange",
                "opacity": 1,
                "data": {
                  "value": 0.03
                }
              },
              {
                "source": "electricity^*",
                "target": "__electricity_rejected_2^*",
                "type": "Rejected energy",
                "time": "*",
                "value": 25.3,
                "title": "Rejected energy",
                "color": "lightgrey",
                "opacity": 1,
                "data": {
                  "value": 25.3
                }
              },
              {
                "source": "direct_use^",
                "target": "uses^Commercial",
                "type": "Solar",
                "time": "*",
                "value": 0.1,
                "title": "Solar",
                "color": "gold",
                "opacity": 1,
                "data": {
                  "value": 0.1
                }
              },
              {
                "source": "direct_use^",
                "target": "uses^Industrial",
                "type": "Solar",
                "time": "*",
                "value": 0.03,
                "title": "Solar",
                "color": "gold",
                "opacity": 1,
                "data": {
                  "value": 0.03
                }
              },
              {
                "source": "direct_use^",
                "target": "uses^Residential",
                "type": "Solar",
                "time": "*",
                "value": 0.22,
                "title": "Solar",
                "color": "gold",
                "opacity": 1,
                "data": {
                  "value": 0.22
                }
              },
              {
                "source": "direct_use^    ",
                "target": "uses^Commercial",
                "type": "Geothermal",
                "time": "*",
                "value": 0.02,
                "title": "Geothermal",
                "color": "brown",
                "opacity": 1,
                "data": {
                  "value": 0.02
                }
              },
              {
                "source": "direct_use^    ",
                "target": "uses^Residential",
                "type": "Geothermal",
                "time": "*",
                "value": 0.04,
                "title": "Geothermal",
                "color": "brown",
                "opacity": 1,
                "data": {
                  "value": 0.04
                }
              },
              {
                "source": "direct_use^     ",
                "target": "uses^Commercial",
                "type": "Natural_Gas",
                "time": "*",
                "value": 3.61,
                "title": "Natural_Gas",
                "color": "steelblue",
                "opacity": 1,
                "data": {
                  "value": 3.61
                }
              },
              {
                "source": "direct_use^     ",
                "target": "uses^Industrial",
                "type": "Natural_Gas",
                "time": "*",
                "value": 10.4,
                "title": "Natural_Gas",
                "color": "steelblue",
                "opacity": 1,
                "data": {
                  "value": 10.4
                }
              },
              {
                "source": "direct_use^     ",
                "target": "uses^Residential",
                "type": "Natural_Gas",
                "time": "*",
                "value": 5.15,
                "title": "Natural_Gas",
                "color": "steelblue",
                "opacity": 1,
                "data": {
                  "value": 5.15
                }
              },
              {
                "source": "direct_use^     ",
                "target": "uses^Transportation",
                "type": "Natural_Gas",
                "time": "*",
                "value": 0.87,
                "title": "Natural_Gas",
                "color": "steelblue",
                "opacity": 1,
                "data": {
                  "value": 0.87
                }
              },
              {
                "source": "direct_use^      ",
                "target": "uses^Commercial",
                "type": "Coal",
                "time": "*",
                "value": 0.02,
                "title": "Coal",
                "color": "black",
                "opacity": 1,
                "data": {
                  "value": 0.02
                }
              },
              {
                "source": "direct_use^      ",
                "target": "uses^Industrial",
                "type": "Coal",
                "time": "*",
                "value": 1.2,
                "title": "Coal",
                "color": "black",
                "opacity": 1,
                "data": {
                  "value": 1.2
                }
              },
              {
                "source": "direct_use^       ",
                "target": "uses^Commercial",
                "type": "Biomass",
                "time": "*",
                "value": 0.15,
                "title": "Biomass",
                "color": "lightgreen",
                "opacity": 1,
                "data": {
                  "value": 0.15
                }
              },
              {
                "source": "direct_use^       ",
                "target": "uses^Industrial",
                "type": "Biomass",
                "time": "*",
                "value": 2.55,
                "title": "Biomass",
                "color": "lightgreen",
                "opacity": 1,
                "data": {
                  "value": 2.55
                }
              },
              {
                "source": "direct_use^       ",
                "target": "uses^Residential",
                "type": "Biomass",
                "time": "*",
                "value": 0.52,
                "title": "Biomass",
                "color": "lightgreen",
                "opacity": 1,
                "data": {
                  "value": 0.52
                }
              },
              {
                "source": "direct_use^       ",
                "target": "uses^Transportation",
                "type": "Biomass",
                "time": "*",
                "value": 1.41,
                "title": "Biomass",
                "color": "lightgreen",
                "opacity": 1,
                "data": {
                  "value": 1.41
                }
              },
              {
                "source": "direct_use^        ",
                "target": "uses^Commercial",
                "type": "Petroleum",
                "time": "*",
                "value": 0.85,
                "title": "Petroleum",
                "color": "green",
                "opacity": 1,
                "data": {
                  "value": 0.85
                }
              },
              {
                "source": "direct_use^        ",
                "target": "uses^Industrial",
                "type": "Petroleum",
                "time": "*",
                "value": 8.86,
                "title": "Petroleum",
                "color": "green",
                "opacity": 1,
                "data": {
                  "value": 8.86
                }
              },
              {
                "source": "direct_use^        ",
                "target": "uses^Residential",
                "type": "Petroleum",
                "time": "*",
                "value": 0.96,
                "title": "Petroleum",
                "color": "green",
                "opacity": 1,
                "data": {
                  "value": 0.96
                }
              },
              {
                "source": "direct_use^        ",
                "target": "uses^Transportation",
                "type": "Petroleum",
                "time": "*",
                "value": 26,
                "title": "Petroleum",
                "color": "green",
                "opacity": 1,
                "data": {
                  "value": 26
                }
              },
              {
                "source": "__electricity_rejected_2^*",
                "target": "rejected^*",
                "type": "Rejected energy",
                "time": "*",
                "value": 25.3,
                "title": "Rejected energy",
                "color": "lightgrey",
                "opacity": 1,
                "data": {
                  "value": 25.3
                }
              },
              {
                "source": "uses^Residential",
                "target": "energy_services^*",
                "type": "Energy services",
                "time": "*",
                "value": 7.72,
                "title": "Energy services",
                "color": "dimgrey",
                "opacity": 1,
                "data": {
                  "value": 7.72
                }
              },
              {
                "source": "uses^Residential",
                "target": "rejected^*",
                "type": "Rejected energy",
                "time": "*",
                "value": 4.16,
                "title": "Rejected energy",
                "color": "lightgrey",
                "opacity": 1,
                "data": {
                  "value": 4.16
                }
              },
              {
                "source": "uses^Commercial",
                "target": "energy_services^*",
                "type": "Energy services",
                "time": "*",
                "value": 6.14,
                "title": "Energy services",
                "color": "dimgrey",
                "opacity": 1,
                "data": {
                  "value": 6.14
                }
              },
              {
                "source": "uses^Commercial",
                "target": "rejected^*",
                "type": "Rejected energy",
                "time": "*",
                "value": 3.31,
                "title": "Rejected energy",
                "color": "lightgrey",
                "opacity": 1,
                "data": {
                  "value": 3.31
                }
              },
              {
                "source": "uses^Industrial",
                "target": "energy_services^*",
                "type": "Energy services",
                "time": "*",
                "value": 12.9,
                "title": "Energy services",
                "color": "dimgrey",
                "opacity": 1,
                "data": {
                  "value": 12.9
                }
              },
              {
                "source": "uses^Industrial",
                "target": "rejected^*",
                "type": "Rejected energy",
                "time": "*",
                "value": 13.4,
                "title": "Rejected energy",
                "color": "lightgrey",
                "opacity": 1,
                "data": {
                  "value": 13.4
                }
              },
              {
                "source": "uses^Transportation",
                "target": "energy_services^*",
                "type": "Energy services",
                "time": "*",
                "value": 5.95,
                "title": "Energy services",
                "color": "dimgrey",
                "opacity": 1,
                "data": {
                  "value": 5.95
                }
              },
              {
                "source": "uses^Transportation",
                "target": "rejected^*",
                "type": "Rejected energy",
                "time": "*",
                "value": 22.4,
                "title": "Rejected energy",
                "color": "lightgrey",
                "opacity": 1,
                "data": {
                  "value": 22.4
                }
              }
            ],
            "margins": {
              "left": 100,
              "right": 120
            },
            "node_position_attr": null,
            "nodes": [
              {
                "id": "sources^Solar",
                "title": "Solar",
                "direction": "r",
                "hidden": false,
                "type": "process",
                "fromElsewhere": [],
                "toElsewhere": []
              },
              {
                "id": "sources^Nuclear",
                "title": "Nuclear",
                "direction": "r",
                "hidden": false,
                "type": "process",
                "fromElsewhere": [],
                "toElsewhere": []
              },
              {
                "id": "sources^Hydro",
                "title": "Hydro",
                "direction": "r",
                "hidden": false,
                "type": "process",
                "fromElsewhere": [],
                "toElsewhere": []
              },
              {
                "id": "sources^Wind",
                "title": "Wind",
                "direction": "r",
                "hidden": false,
                "type": "process",
                "fromElsewhere": [],
                "toElsewhere": []
              },
              {
                "id": "sources^Geothermal",
                "title": "Geothermal",
                "direction": "r",
                "hidden": false,
                "type": "process",
                "fromElsewhere": [],
                "toElsewhere": []
              },
              {
                "id": "sources^Natural_Gas",
                "title": "Natural_Gas",
                "direction": "r",
                "hidden": false,
                "type": "process",
                "fromElsewhere": [],
                "toElsewhere": []
              },
              {
                "id": "sources^Coal",
                "title": "Coal",
                "direction": "r",
                "hidden": false,
                "type": "process",
                "fromElsewhere": [],
                "toElsewhere": []
              },
              {
                "id": "sources^Biomass",
                "title": "Biomass",
                "direction": "r",
                "hidden": false,
                "type": "process",
                "fromElsewhere": [],
                "toElsewhere": []
              },
              {
                "id": "sources^Petroleum",
                "title": "Petroleum",
                "direction": "r",
                "hidden": false,
                "type": "process",
                "fromElsewhere": [],
                "toElsewhere": []
              },
              {
                "id": "imports^*",
                "title": "Net electricity imports",
                "direction": "r",
                "hidden": false,
                "type": "process",
                "fromElsewhere": [],
                "toElsewhere": []
              },
              {
                "id": "electricity^*",
                "title": "Electricity Generation",
                "direction": "r",
                "hidden": false,
                "type": "process",
                "fromElsewhere": [],
                "toElsewhere": []
              },
              {
                "id": "direct_use^",
                "title": "",
                "direction": "r",
                "hidden": true,
                "type": "group",
                "fromElsewhere": [],
                "toElsewhere": []
              },
              {
                "id": "direct_use^    ",
                "title": "    ",
                "direction": "r",
                "hidden": false,
                "type": "group",
                "fromElsewhere": [],
                "toElsewhere": []
              },
              {
                "id": "direct_use^     ",
                "title": "     ",
                "direction": "r",
                "hidden": false,
                "type": "group",
                "fromElsewhere": [],
                "toElsewhere": []
              },
              {
                "id": "direct_use^      ",
                "title": "      ",
                "direction": "r",
                "hidden": false,
                "type": "group",
                "fromElsewhere": [],
                "toElsewhere": []
              },
              {
                "id": "direct_use^       ",
                "title": "       ",
                "direction": "r",
                "hidden": false,
                "type": "group",
                "fromElsewhere": [],
                "toElsewhere": []
              },
              {
                "id": "direct_use^        ",
                "title": "        ",
                "direction": "r",
                "hidden": false,
                "type": "group",
                "fromElsewhere": [],
                "toElsewhere": []
              },
              {
                "id": "__electricity_rejected_2^*",
                "title": "",
                "direction": "r",
                "hidden": true,
                "type": "group",
                "fromElsewhere": [],
                "toElsewhere": []
              },
              {
                "id": "uses^Residential",
                "title": "Residential",
                "direction": "r",
                "hidden": false,
                "type": "process",
                "fromElsewhere": [],
                "toElsewhere": []
              },
              {
                "id": "uses^Commercial",
                "title": "Commercial",
                "direction": "r",
                "hidden": false,
                "type": "process",
                "fromElsewhere": [],
                "toElsewhere": []
              },
              {
                "id": "uses^Industrial",
                "title": "Industrial",
                "direction": "r",
                "hidden": false,
                "type": "process",
                "fromElsewhere": [],
                "toElsewhere": []
              },
              {
                "id": "uses^Transportation",
                "title": "Transportation",
                "direction": "r",
                "hidden": false,
                "type": "process",
                "fromElsewhere": [],
                "toElsewhere": []
              },
              {
                "id": "rejected^*",
                "title": "Rejected energy",
                "direction": "r",
                "hidden": false,
                "type": "process",
                "fromElsewhere": [],
                "toElsewhere": []
              },
              {
                "id": "energy_services^*",
                "title": "Energy services",
                "direction": "r",
                "hidden": false,
                "type": "process",
                "fromElsewhere": [],
                "toElsewhere": []
              }
            ],
            "order": [
              [
                [],
                [
                  "sources^Solar",
                  "sources^Nuclear",
                  "sources^Hydro",
                  "sources^Wind",
                  "sources^Geothermal",
                  "sources^Natural_Gas",
                  "sources^Coal",
                  "sources^Biomass",
                  "sources^Petroleum"
                ],
                []
              ],
              [
                [
                  "imports^*"
                ],
                [
                  "electricity^*",
                  "direct_use^",
                  "direct_use^    ",
                  "direct_use^     ",
                  "direct_use^      ",
                  "direct_use^       ",
                  "direct_use^        "
                ],
                []
              ],
              [
                [],
                [
                  "__electricity_rejected_2^*",
                  "uses^Residential",
                  "uses^Commercial",
                  "uses^Industrial",
                  "uses^Transportation"
                ],
                []
              ],
              [
                [],
                [
                  "rejected^*",
                  "energy_services^*"
                ],
                []
              ]
            ],
            "png": "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",
            "rank_sets": [],
            "scale": 2.1205247065785584,
            "show_link_info_html": false,
            "svg": "<?xml version=\"1.0\" standalone=\"no\"?><!DOCTYPE svg PUBLIC \"-//W3C//DTD SVG 1.1//EN\" \"http://www.w3.org/Graphics/SVG/1.1/DTD/svg11.dtd\"><svg xmlns=\"http://www.w3.org/2000/svg\" width=\"700\" height=\"450\" viewBox=\"0 0 700 450\" style=\"font-family: &quot;Helvetica Neue&quot;, Helvetica, Arial, sans-serif;\"><g class=\"sankey\" transform=\"translate(100,10)\"><g class=\"groups\"><g class=\"group\" transform=\"translate(0,43.19084722359207)\" style=\"display: inline;\"><rect x=\"-10\" y=\"-20\" width=\"21\" height=\"373.8303580234737\" style=\"fill: rgb(238, 238, 238); stroke: rgb(187, 187, 187); stroke-width: 0.5;\"/><text x=\"-10\" y=\"-25\" style=\"fill: rgb(153, 153, 153);\">Sources</text></g><g class=\"group\" transform=\"translate(159.66666666666666,145.88927244632936)\" style=\"display: none;\"><rect x=\"-10\" y=\"-20\" width=\"21\" height=\"271.13193280073637\" style=\"fill: rgb(238, 238, 238); stroke: rgb(187, 187, 187); stroke-width: 0.5;\"/><text x=\"-10\" y=\"-25\" style=\"fill: rgb(153, 153, 153);\"/></g><g class=\"group\" transform=\"translate(319.3333333333333,43.19084722359207)\" style=\"display: none;\"><rect x=\"-10\" y=\"-20\" width=\"21\" height=\"83.64927507643753\" style=\"fill: rgb(238, 238, 238); stroke: rgb(187, 187, 187); stroke-width: 0.5;\"/><text x=\"-10\" y=\"-25\" style=\"fill: rgb(153, 153, 153);\"/></g><g class=\"group\" transform=\"translate(319.3333333333333,129.07421836473026)\" style=\"display: none;\"><rect x=\"-10\" y=\"-20\" width=\"21\" height=\"287.9469868823355\" style=\"fill: rgb(238, 238, 238); stroke: rgb(187, 187, 187); stroke-width: 0.5;\"/><text x=\"-10\" y=\"-25\" style=\"fill: rgb(153, 153, 153);\"/></g></g><g class=\"links\"><g class=\"link\" style=\"opacity: 0.8;\"><path d=\"M160.66666666666666,167.26222178387084 A137.4843588584558 137.4843588584558 0.2183277117352982 0 1 190.44541265321095,170.52595920810168 L289.98778202047845,192.610843785538 A135.4843588584558 135.4843588584558 0.2183277117352982 0 0 319.3333333333333,195.82710326462177 L319.3333333333333,197.82710326462177 A137.4843588584558 137.4843588584558 0.2183277117352982 0 1 289.55458734678905,194.56336584039093 L190.01221797952155,172.4784812629546 A135.4843588584558 135.4843588584558 0.2183277117352982 0 0 160.66666666666666,169.26222178387084 Z\" style=\"fill: rgb(165, 42, 42);\"/><title>     → Commercial\nGeothermal\n20.0m</title><text class=\"label\" dy=\"0.35em\" x=\"164.66666666666666\" y=\"168.26222178387084\"/></g><g class=\"link\" style=\"opacity: 0.8;\"><path d=\"M160.66666666666666,252.8282210605911 A82.98762981544061 82.98762981544061 0.3696013606111679 0 0 190.64542850454197,247.22418473274033 L288.6320840137804,209.26370142599797 A84.98762981544061 84.98762981544061 0.3696013606111679 0 1 319.3333333333333,203.52460794950193 L319.3333333333333,205.52460794950193 A82.98762981544061 82.98762981544061 0.3696013606111679 0 0 289.354571495458,211.1286442773527 L191.36791598621957,249.08912758409505 A84.98762981544061 84.98762981544061 0.3696013606111679 0 1 160.66666666666666,254.8282210605911 Z\" style=\"fill: rgb(0, 0, 0);\"/><title>       → Commercial\nCoal\n20.0m</title><text class=\"label\" dy=\"0.35em\" x=\"164.66666666666666\" y=\"253.8282210605911\"/></g><g class=\"link\" style=\"opacity: 0.8;\"><path d=\"M160.66666666666666,123.33272512082061 A50.02922393240203 50.02922393240203 1.1248524713804242 0 1 205.8032312848093,151.7838633700425 L276.0011766619991,298.6223801921432 A48.02922393240203 48.02922393240203 1.1248524713804242 0 0 319.3333333333333,325.93613768616234 L319.3333333333333,327.93613768616234 A50.02922393240203 50.02922393240203 1.1248524713804242 0 1 274.19676871519073,299.4849994369404 L203.99882333800085,152.64648261483975 A48.02922393240203 48.02922393240203 1.1248524713804242 0 0 160.66666666666666,125.33272512082061 Z\" style=\"fill: rgb(255, 165, 0);\"/><title>Electricity Generation → Transportation\nElectricity\n30.0m</title><text class=\"label\" dy=\"0.35em\" x=\"164.66666666666666\" y=\"124.33272512082061\"/></g><g class=\"link\" style=\"opacity: 0.8;\"><path d=\"M160.66666666666666,145.59964822303317 A53.94152690881709 53.94152690881709 0.6878881272080076 0 1 194.91451917814084,157.866567471946 L286.3552948028155,233.011850726566 A51.94152690881709 51.94152690881709 0.6878881272080076 0 0 319.3333333333333,244.82394713482591 L319.3333333333333,246.82394713482591 A53.94152690881709 53.94152690881709 0.6878881272080076 0 1 285.08548082185916,234.55702788591307 L193.64470519718452,159.4117446312931 A51.94152690881709 51.94152690881709 0.6878881272080076 0 0 160.66666666666666,147.59964822303317 Z\" style=\"fill: rgb(255, 215, 0);\"/><title> → Industrial\nSolar\n30.0m</title><text class=\"label\" dy=\"0.35em\" x=\"164.66666666666666\" y=\"146.59964822303317\"/></g><g class=\"link\" style=\"opacity: 0.8;\"><path d=\"M160.66666666666666,167.19860604267348 A138.50304293701063 138.50304293701063 0.21339570298279398 0 0 189.99881258272478,164.05699822944723 L289.57762782906605,142.47876705686227 A140.50304293701063 140.50304293701063 0.21339570298279398 0 1 319.3333333333333,139.29179406253084 L319.3333333333333,141.29179406253084 A138.50304293701063 138.50304293701063 0.21339570298279398 0 0 290.0011874172752,144.43340187575708 L190.42237217093395,166.01163304834205 A140.50304293701063 140.50304293701063 0.21339570298279398 0 1 160.66666666666666,169.19860604267348 Z\" style=\"fill: rgb(165, 42, 42);\"/><title>     → Residential\nGeothermal\n40.0m</title><text class=\"label\" dy=\"0.35em\" x=\"164.66666666666666\" y=\"168.19860604267348\"/></g><g class=\"link\" style=\"opacity: 0.8;\"><path d=\"M160.66666666666666,-0.893973764671072 A49.62175458030108 49.62175458030108 0.8423475525753593 0 1 197.6948154567448,15.69393870170895 L283.7976004847414,112.20789321725688 A47.62175458030108 47.62175458030108 0.8423475525753593 0 0 319.3333333333333,128.12723148239473 L319.3333333333333,130.12723148239473 A49.62175458030108 49.62175458030108 0.8423475525753593 0 1 282.30518454325517,113.53931901601472 L196.20239951525863,17.025364500466775 A47.62175458030108 47.62175458030108 0.8423475525753593 0 0 160.66666666666666,1.1060262353289279 Z\" style=\"fill: rgb(255, 165, 0);\"/><title>Net electricity imports → Residential\nElectricity\n50.0m</title><text class=\"label\" dy=\"0.35em\" x=\"164.66666666666666\" y=\"0.10602623532892794\"/></g><g class=\"link\" style=\"opacity: 0.8;\"><path d=\"M1,138.15943386921785 A135.30460453290658 135.30460453290658 0.2220367939756862 0 1 30.796356653810452,141.4810351859331 L130.31074375502888,163.9473080998495 A133.30460453290658 133.30460453290658 0.2220367939756862 0 0 159.66666666666666,167.21981128973928 L159.66666666666666,169.21981128973928 A135.30460453290658 135.30460453290658 0.2220367939756862 0 1 129.8703100128562,165.89820997302402 L30.355922911637787,143.43193705910764 A133.30460453290658 133.30460453290658 0.2220367939756862 0 0 1,140.15943386921785 Z\" style=\"fill: rgb(165, 42, 42);\"/><title>Geothermal →     \nGeothermal\n60.0m</title><text class=\"label\" dy=\"0.35em\" x=\"5\" y=\"139.15943386921785\"/></g><g class=\"link\" style=\"opacity: 0.8;\"><path d=\"M160.66666666666666,145.46181411710558 A83.70315823228653 83.70315823228653 0.37619717376147865 0 1 191.41805571903552,151.3153045953866 L289.3167167722731,189.9862443772613 A81.70315823228653 81.70315823228653 0.37619717376147865 0 0 319.3333333333333,195.69987178222706 L319.3333333333333,197.69987178222706 A83.70315823228653 83.70315823228653 0.37619717376147865 0 1 288.5819442809645,191.84638130394603 L190.68328322772692,153.17544152207134 A81.70315823228653 81.70315823228653 0.37619717376147865 0 0 160.66666666666666,147.46181411710558 Z\" style=\"fill: rgb(255, 215, 0);\"/><title> → Commercial\nSolar\n100m</title><text class=\"label\" dy=\"0.35em\" x=\"164.66666666666666\" y=\"146.46181411710558\"/></g><g class=\"link\" style=\"opacity: 0.8;\"><path d=\"M1,137.9367787750271 A66.5890732864629 66.5890732864629 0.5181941946073323 0 0 33.98238145055105,129.19463449089133 L110.32436819599069,85.66699056998912 A99.61857769162005 99.61857769162005 0.5181941946073323 0 1 159.66666666666666,72.58856889239571 L159.66666666666666,74.58856889239571 A97.61857769162005 97.61857769162005 0.5181941946073323 0 0 111.31499262798009,87.40442063613445 L34.97300588254044,130.93206455703663 A68.5890732864629 68.5890732864629 0.5181941946073323 0 1 1,139.9367787750271 Z\" style=\"fill: rgb(165, 42, 42);\"/><title>Geothermal → Electricity Generation\nGeothermal\n150m</title><text class=\"label\" dy=\"0.35em\" x=\"5\" y=\"138.9367787750271\"/></g><g class=\"link\" style=\"opacity: 0.8;\"><path d=\"M160.66666666666666,278.18050761087545 A60.8760606052348 60.8760606052348 0.5391970050413546 0 0 191.92330284862334,269.5434884344515 L287.049802970932,212.62562921917873 A62.8760606052348 62.8760606052348 0.5391970050413546 0 1 319.3333333333333,203.7048525495611 L319.3333333333333,205.7048525495611 A60.8760606052348 60.8760606052348 0.5391970050413546 0 0 288.0766971513766,214.34187172598507 L192.95019702906802,271.2597309412578 A62.8760606052348 62.8760606052348 0.5391970050413546 0 1 160.66666666666666,280.18050761087545 Z\" style=\"fill: rgb(144, 238, 144);\"/><title>        → Commercial\nBiomass\n150m</title><text class=\"label\" dy=\"0.35em\" x=\"164.66666666666666\" y=\"279.18050761087545\"/></g><g class=\"link\" style=\"opacity: 0.8;\"><path d=\"M160.66666666666666,145.122530164053 A618.3268081557372 618.3268081557372 0.04712849337180458 0 0 189.79669132669687,144.43597599713078 L290.10908657497,139.70490070141054 A620.3268081557372 620.3268081557372 0.04712849337180458 0 1 319.3333333333333,139.01612585067562 L319.3333333333333,141.01612585067562 A618.3268081557372 618.3268081557372 0.04712849337180458 0 0 290.2033086733031,141.70268001759783 L189.89091342503002,146.43375531331807 A620.3268081557372 620.3268081557372 0.04712849337180458 0 1 160.66666666666666,147.122530164053 Z\" style=\"fill: rgb(255, 215, 0);\"/><title> → Residential\nSolar\n220m</title><text class=\"label\" dy=\"0.35em\" x=\"164.66666666666666\" y=\"146.122530164053\"/></g><g class=\"link\" style=\"opacity: 0.8;\"><path d=\"M1,308.0071012920406 A47.160692298583264 47.160692298583264 1.068031295193205 0 0 42.32472556010129,283.57080019463064 L116.58943394240133,148.51905489018213 A49.160692298583264 49.160692298583264 1.068031295193205 0 1 159.66666666666666,123.04645428543249 L159.66666666666666,125.04645428543249 A47.160692298583264 47.160692298583264 1.068031295193205 0 0 118.34194110656536,149.48275538284247 L44.07723272426532,284.534500687291 A49.160692298583264 49.160692298583264 1.068031295193205 0 1 1,310.0071012920406 Z\" style=\"fill: rgb(0, 128, 0);\"/><title>Petroleum → Electricity Generation\nPetroleum\n240m</title><text class=\"label\" dy=\"0.35em\" x=\"5\" y=\"309.0071012920406\"/></g><g class=\"link\" style=\"opacity: 0.8;\"><path d=\"M1,43.85545911825624 A53.45022296538045 53.45022296538045 0.7000926616255334 0 1 35.43736697182911,56.42788748685766 L126.51787680682207,133.15837092189332 A51.45022296538045 51.45022296538045 0.7000926616255334 0 0 159.66666666666666,145.2603642699806 L159.66666666666666,147.2603642699806 A53.45022296538045 53.45022296538045 0.7000926616255334 0 1 125.22929969483755,134.6879359013792 L34.1487898598446,57.95745246634354 A51.45022296538045 51.45022296538045 0.7000926616255334 0 0 1,45.85545911825624 Z\" style=\"fill: rgb(255, 215, 0);\"/><title>Solar → \nSolar\n350m</title><text class=\"label\" dy=\"0.35em\" x=\"5\" y=\"44.85545911825624\"/></g><g class=\"link\" style=\"opacity: 0.8;\"><path d=\"M1,281.25297120031564 A46.60009931136522 46.60009931136522 0.9768432816103825 0 0 39.61912734728032,260.7322173324934 L118.27526609184,144.25569588768127 A49.94528644001733 49.94528644001733 0.9768432816103825 0 1 159.66666666666666,122.26186014399843 L159.66666666666666,124.26186014399843 A47.94528644001733 47.94528644001733 0.9768432816103825 0 0 119.93273583623866,145.3749787144963 L41.27659709167897,261.85150015930844 A48.60009931136522 48.60009931136522 0.9768432816103825 0 1 1,283.25297120031564 Z\" style=\"fill: rgb(144, 238, 144);\"/><title>Biomass → Electricity Generation\nBiomass\n500m</title><text class=\"label\" dy=\"0.35em\" x=\"5\" y=\"282.25297120031564\"/></g><g class=\"link\" style=\"opacity: 0.8;\"><path d=\"M160.66666666666666,277.47013183417164 A47.812868735788335 47.812868735788335 0.8319866749967951 0 0 196.01331830377706,261.8548505047479 L282.24252787876634,167.19204880712613 A50.172158616630114 50.172158616630114 0.8319866749967951 0 1 319.3333333333333,150.80624321925245 L319.3333333333333,152.80624321925245 A48.172158616630114 48.172158616630114 0.8319866749967951 0 0 283.7210692242955,168.53886560593764 L197.4918596493062,263.20166730355936 A49.812868735788335 49.812868735788335 0.8319866749967951 0 1 160.66666666666666,279.47013183417164 Z\" style=\"fill: rgb(144, 238, 144);\"/><title>        → Residential\nBiomass\n520m</title><text class=\"label\" dy=\"0.35em\" x=\"164.66666666666666\" y=\"278.47013183417164\"/></g><g class=\"link\" style=\"opacity: 0.8;\"><path d=\"M1,42.83760725909853 A0 0 0 0 0 1,42.83760725909853 L159.66666666666666,42.83760725909853 A0 0 0 0 0 159.66666666666666,42.83760725909853 L159.66666666666666,44.83760725909853 A0 0 0 0 0 159.66666666666666,44.83760725909853 L1,44.83760725909853 A0 0 0 0 0 1,44.83760725909853 Z\" style=\"fill: rgb(255, 215, 0);\"/><title>Solar → Electricity Generation\nSolar\n610m</title><text class=\"label\" dy=\"0.35em\" x=\"5\" y=\"43.83760725909853\"/></g><g class=\"link\" style=\"opacity: 0.8;\"><path d=\"M160.66666666666666,311.1984909754413 A50.44510491017079 50.44510491017079 0.7276846952714633 0 0 194.21985204395247,298.42157370996125 L284.44986286943566,218.04859934816807 A52.44510491017079 52.44510491017079 0.7276846952714633 0 1 319.3333333333333,204.76511490285037 L319.3333333333333,206.76511490285037 A50.44510491017079 50.44510491017079 0.7276846952714633 0 0 285.78014795604753,219.54203216833042 L195.55013713056434,299.91500653012355 A52.44510491017079 52.44510491017079 0.7276846952714633 0 1 160.66666666666666,313.1984909754413 Z\" style=\"fill: rgb(0, 128, 0);\"/><title>         → Commercial\nPetroleum\n850m</title><text class=\"label\" dy=\"0.35em\" x=\"164.66666666666666\" y=\"312.1984909754413\"/></g><g class=\"link\" style=\"opacity: 0.8;\"><path d=\"M160.66666666666666,230.35984811125354 A54.59950117447799 54.59950117447799 0.6726108681739001 0 1 194.68381153201165,242.25174593794392 L286.5622491144635,315.4340806101079 A52.59950117447799 52.59950117447799 0.6726108681739001 0 0 319.3333333333333,326.89037380412265 L319.3333333333333,328.89037380412265 A54.59950117447799 54.59950117447799 0.6726108681739001 0 1 285.31618846798835,316.99847597743224 L193.4377508855365,243.8161413052683 A52.59950117447799 52.59950117447799 0.6726108681739001 0 0 160.66666666666666,232.35984811125354 Z\" style=\"fill: rgb(70, 130, 180);\"/><title>      → Transportation\nNatural_Gas\n870m</title><text class=\"label\" dy=\"0.35em\" x=\"164.66666666666666\" y=\"231.35984811125354\"/></g><g class=\"link\" style=\"opacity: 0.8;\"><path d=\"M160.66666666666666,309.26156425683 A46.58511847460427 46.58511847460427 0.9643344109592074 0 0 198.94424869866253,289.22828144525937 L279.3830751630738,173.2662885486372 A48.62082219291969 48.62082219291969 0.9643344109592074 0 1 319.3333333333333,152.35757964296286 L319.3333333333333,154.39328336127826 A46.58511847460427 46.58511847460427 0.9643344109592074 0 0 281.05575130133747,174.42656617284894 L200.61692483692622,290.3885590694711 A48.62082219291969 48.62082219291969 0.9643344109592074 0 1 160.66666666666666,311.2972679751454 Z\" style=\"fill: rgb(0, 128, 0);\"/><title>         → Residential\nPetroleum\n960m</title><text class=\"label\" dy=\"0.35em\" x=\"164.66666666666666\" y=\"310.2794161159877\"/></g><g class=\"link\" style=\"opacity: 0.8;\"><path d=\"M160.66666666666666,253.84942630765687 A271.9676439210831 271.9676439210831 0.10829243758448226 0 1 190.06117426807282,255.442584999723 L290.2138515932737,266.3309594424637 A269.42301427318887 269.42301427318887 0.10829243758448226 0 0 319.3333333333333,267.90921195384163 L319.3333333333333,270.45384160173586 A271.9676439210831 271.9676439210831 0.10829243758448226 0 1 289.9388257319272,268.8606829096698 L189.78614840672623,257.97230846692906 A269.42301427318887 269.42301427318887 0.10829243758448226 0 0 160.66666666666666,256.39405595555115 Z\" style=\"fill: rgb(0, 0, 0);\"/><title>       → Industrial\nCoal\n1.20</title><text class=\"label\" dy=\"0.35em\" x=\"164.66666666666666\" y=\"255.121741131604\"/></g><g class=\"link\" style=\"opacity: 0.8;\"><path d=\"M1,262.9842933228129 A411.5631279059721 411.5631279059721 0.07078712580298463 0 0 30.10904667338915,261.9535900236116 L130.3746437567441,254.84419799926607 A414.1501680479979 414.1501680479979 0.07078712580298463 0 1 159.66666666666666,253.8070158135253 L159.66666666666666,256.39405595555115 A411.5631279059721 411.5631279059721 0.07078712580298463 0 0 130.5576199932775,257.4247592547524 L30.29202290992258,264.53415127909796 A414.1501680479979 414.1501680479979 0.07078712580298463 0 1 1,265.5713334648387 Z\" style=\"fill: rgb(0, 0, 0);\"/><title>Coal →       \nCoal\n1.22</title><text class=\"label\" dy=\"0.35em\" x=\"5\" y=\"264.2778133938258\"/></g><g class=\"link\" style=\"opacity: 0.8;\"><path d=\"M160.66666666666666,284.7468849656442 A93.80071760144493 93.80071760144493 0.3322480898687461 0 1 191.26155254798013,289.8767077906439 L289.71367312642815,323.84649462391127 A90.81077776516916 90.81077776516916 0.3322480898687461 0 0 319.3333333333333,328.8128020514843 L319.3333333333333,331.8027418877601 A93.80071760144493 93.80071760144493 0.3322480898687461 0 1 288.73844745201984,326.6729190627604 L190.28632687357182,292.703132229493 A90.81077776516916 90.81077776516916 0.3322480898687461 0 0 160.66666666666666,287.73682480191997 Z\" style=\"fill: rgb(144, 238, 144);\"/><title>        → Transportation\nBiomass\n1.41</title><text class=\"label\" dy=\"0.35em\" x=\"164.66666666666666\" y=\"286.2418548837821\"/></g><g class=\"link\" style=\"opacity: 0.8;\"><path d=\"M1,117.26130535555772 A81.45557253109598 81.45557253109598 0.38076780349557615 0 0 31.271610714053303,111.42742204882019 L120.9638195870101,75.52333607911483 A104.14254455225719 104.14254455225719 0.38076780349557615 0 1 159.66666666666666,68.06460203175857 L159.66666666666666,73.42952953940232 A98.77761704461344 98.77761704461344 0.38076780349557615 0 0 122.95760579431358,80.50402516013956 L33.26539692135679,116.40811112984493 A86.82050003873974 86.82050003873974 0.38076780349557615 0 1 1,122.62623286320148 Z\" style=\"fill: rgb(128, 0, 128);\"/><title>Wind → Electricity Generation\nWind\n2.53</title><text class=\"label\" dy=\"0.35em\" x=\"5\" y=\"119.9437691093796\"/></g><g class=\"link\" style=\"opacity: 0.8;\"><path d=\"M160.66666666666666,279.3395469638689 A423.6113928035864 423.6113928035864 0.0685426998893226 0 0 189.67940530925446,278.3448517829051 L289.95025128907406,271.46123392244516 A429.0187308053617 429.0187308053617 0.0685426998893226 0 1 319.3333333333333,270.4538416017359 L319.3333333333333,275.86117960351123 A423.6113928035864 423.6113928035864 0.0685426998893226 0 0 290.3205946907455,276.855874784475 L190.04974871092585,283.73949264493496 A429.0187308053617 429.0187308053617 0.0685426998893226 0 1 160.66666666666666,284.7468849656442 Z\" style=\"fill: rgb(144, 238, 144);\"/><title>        → Industrial\nBiomass\n2.55</title><text class=\"label\" dy=\"0.35em\" x=\"164.66666666666666\" y=\"282.04321596475654\"/></g><g class=\"link\" style=\"opacity: 0.8;\"><path d=\"M1,95.42679258309497 A116.39108761054601 116.39108761054601 0.2517179351187515 0 0 29.9893096122257,91.7588401461783 L129.26190136932536,66.22864269361585 A122.07409382417654 122.07409382417654 0.2517179351187515 0 1 159.66666666666666,62.381595818128034 L159.66666666666666,68.06460203175857 A116.39108761054601 116.39108761054601 0.2517179351187515 0 0 130.67735705444096,71.73255446867523 L31.404765297341324,97.26275192123768 A122.07409382417654 122.07409382417654 0.2517179351187515 0 1 1,101.1097987967255 Z\" style=\"fill: rgb(0, 0, 255);\"/><title>Hydro → Electricity Generation\nHydro\n2.68</title><text class=\"label\" dy=\"0.35em\" x=\"5\" y=\"98.26829568991023\"/></g><g class=\"link\" style=\"opacity: 0.8;\"><path d=\"M160.66666666666666,117.40921195384162 A55.95273709938102 55.95273709938102 0.8137333540886506 0 1 201.3362640401592,134.9341903573208 L285.999370510743,224.5364614602404 A45.86046036218161 45.86046036218161 0.8137333540886506 0 0 319.3333333333333,238.90043396784694 L319.3333333333333,245.79213926422727 A52.75216565856192 52.75216565856192 0.8137333540886506 0 1 280.99009135568167,229.26961307822444 L196.32698488509791,139.66734197530485 A49.06103180300071 49.06103180300071 0.8137333540886506 0 0 160.66666666666666,124.30091725022193 Z\" style=\"fill: rgb(255, 165, 0);\"/><title>Electricity Generation → Industrial\nElectricity\n3.25</title><text class=\"label\" dy=\"0.35em\" x=\"164.66666666666666\" y=\"120.85506460203177\"/></g><g class=\"link\" style=\"opacity: 0.8;\"><path d=\"M320.3333333333333,186.62737942597892 A55.27563862494257 55.27563862494257 0.6549801425727041 0 0 354.00412905125114,175.18864011106388 L417.1812875596873,126.66273541302162 A101.48464674660434 101.48464674660434 0.6549801425727041 0 1 479,105.66150507939642 L479,112.68044185817143 A94.4657099678293 94.4657099678293 0.6549801425727041 0 0 421.4568272425245,132.22917358522156 L358.2796687340884,180.7550782832638 A62.2945754037176 62.2945754037176 0.6549801425727041 0 1 320.3333333333333,193.64631620475393 Z\" style=\"fill: rgb(211, 211, 211);\"/><title>Commercial → Rejected energy\nRejected energy\n3.31</title><text class=\"label\" dy=\"0.35em\" x=\"324.3333333333333\" y=\"190.13684781536642\"/></g><g class=\"link\" style=\"opacity: 0.8;\"><path d=\"M160.66666666666666,200.72886872472628 A969.8786374152597 969.8786374152597 0.029958120929979293 0 0 189.71806216734078,200.2936735658698 L290.05263989748346,197.2869385950839 A977.5337316060082 977.5337316060082 0.029958120929979293 0 1 319.3333333333333,196.84830851168755 L319.3333333333333,204.50340270243612 A969.8786374152597 969.8786374152597 0.029958120929979293 0 0 290.2819378326592,204.9385978612926 L189.9473601025165,207.9453328320785 A977.5337316060082 977.5337316060082 0.029958120929979293 0 1 160.66666666666666,208.38396291547485 Z\" style=\"fill: rgb(70, 130, 180);\"/><title>      → Commercial\nNatural_Gas\n3.61</title><text class=\"label\" dy=\"0.35em\" x=\"164.66666666666666\" y=\"204.55641582010057\"/></g><g class=\"link\" style=\"opacity: 0.8;\"><path d=\"M320.3333333333333,129.07421836473026 A117.57573568865998 117.57573568865998 0.24569842870478187 0 0 348.9317307016686,125.54314625439132 L448.2559438476912,100.63612100023339 A126.39711846802679 126.39711846802679 0.24569842870478187 0 1 479,96.8401223000296 L479,105.66150507939642 A117.57573568865998 117.57573568865998 0.24569842870478187 0 0 450.40160263166473,109.19257718973536 L351.07738948564213,134.09960244389327 A126.39711846802679 126.39711846802679 0.24569842870478187 0 1 320.3333333333333,137.89560114409704 Z\" style=\"fill: rgb(211, 211, 211);\"/><title>Residential → Rejected energy\nRejected energy\n4.16</title><text class=\"label\" dy=\"0.35em\" x=\"324.3333333333333\" y=\"133.48490975441365\"/></g><g class=\"link\" style=\"opacity: 0.8;\"><path d=\"M1,282.78310237696024 A772.1422518132053 772.1422518132053 0.037548607586899374 0 0 29.986054064453807,282.23884544511793 L130.3120458904717,278.4699727388247 A781.9602812046642 781.9602812046642 0.037548607586899374 0 1 159.66666666666666,277.9187954104612 L159.66666666666666,287.7368248019199 A772.1422518132053 772.1422518132053 0.037548607586899374 0 0 130.68061260221285,288.2810817337622 L30.35462077619498,292.04995444005544 A781.9602812046642 781.9602812046642 0.037548607586899374 0 1 1,292.60113176841895 Z\" style=\"fill: rgb(144, 238, 144);\"/><title>Biomass →        \nBiomass\n4.63</title><text class=\"label\" dy=\"0.35em\" x=\"5\" y=\"287.6921170726896\"/></g><g class=\"link\" style=\"opacity: 0.8;\"><path d=\"M160.66666666666666,107.4427458329224 A65.91920322030025 65.91920322030025 0.5708578097780983 0 1 196.28637450581556,117.89504210274525 L289.83872975469365,177.9724422109665 A54.583849367389895 54.583849367389895 0.5708578097780983 0 0 319.3333333333333,186.62737942597892 L319.3333333333333,196.59384554689814 A64.55031548830912 64.55031548830912 0.5708578097780983 0 1 284.453309511832,186.3586031769393 L190.90095426295386,126.28120306871809 A55.95273709938102 55.95273709938102 0.5708578097780983 0 0 160.66666666666666,117.40921195384162 Z\" style=\"fill: rgb(255, 165, 0);\"/><title>Electricity Generation → Commercial\nElectricity\n4.70</title><text class=\"label\" dy=\"0.35em\" x=\"164.66666666666666\" y=\"112.42597889338201\"/></g><g class=\"link\" style=\"opacity: 0.8;\"><path d=\"M160.66666666666666,96.8401223000296 A126.91956530101015 126.91956530101015 0.24648595067028833 0 1 191.63474014066585,100.67616115860162 L290.9522749015387,125.66466126604341 A116.31694176811737 116.31694176811737 0.24648595067028833 0 0 319.3333333333333,129.18024460005918 L319.3333333333333,139.78286813295196 A126.91956530101015 126.91956530101015 0.24648595067028833 0 1 288.3652598593341,135.94682927437995 L189.0477250984613,110.95832916693814 A116.31694176811737 116.31694176811737 0.24648595067028833 0 0 160.66666666666666,107.44274583292238 Z\" style=\"fill: rgb(255, 165, 0);\"/><title>Electricity Generation → Residential\nElectricity\n5.00</title><text class=\"label\" dy=\"0.35em\" x=\"164.66666666666666\" y=\"102.141434066476\"/></g><g class=\"link\" style=\"opacity: 0.8;\"><path d=\"M160.66666666666666,189.8081664858467 A78.28910902977974 78.28910902977974 0.3708053543391294 0 0 189.03599113996935,184.4873109750132 L287.00671583255155,146.39727669775306 A89.20981126865932 89.20981126865932 0.3708053543391294 0 1 319.3333333333333,140.33420455666243 L319.3333333333333,151.254906795542 A78.28910902977974 78.28910902977974 0.3708053543391294 0 0 290.9640088600306,156.5757623063755 L192.99328416744842,194.66579658363565 A89.20981126865932 89.20981126865932 0.3708053543391294 0 1 160.66666666666666,200.72886872472628 Z\" style=\"fill: rgb(70, 130, 180);\"/><title>      → Residential\nNatural_Gas\n5.15</title><text class=\"label\" dy=\"0.35em\" x=\"164.66666666666666\" y=\"195.2685176052865\"/></g><g class=\"link\" style=\"opacity: 0.8;\"><path d=\"M320.3333333333333,374.4040832429233 A0 0 0 0 0 320.3333333333333,374.4040832429233 L479,374.4040832429233 A0 0 0 0 0 479,374.4040832429233 L479,387.0212052470657 A0 0 0 0 0 479,387.0212052470657 L320.3333333333333,387.0212052470657 A0 0 0 0 0 320.3333333333333,387.0212052470657 Z\" style=\"fill: rgb(105, 105, 105);\"/><title>Transportation → Energy services\nEnergy services\n5.95</title><text class=\"label\" dy=\"0.35em\" x=\"324.3333333333333\" y=\"380.7126442449945\"/></g><g class=\"link\" style=\"opacity: 0.8;\"><path d=\"M320.3333333333333,193.64631620475393 A54.46720514324092 54.46720514324092 0.9403644547600101 0 1 364.3304709147989,216.00544883104868 L433.63821348022145,310.9766522099592 A56.156601721233386 56.156601721233386 0.9403644547600101 0 0 479,334.0292928296676 L479,347.04931452806 A69.17662341962574 69.17662341962574 0.9403644547600101 0 1 423.12099152122175,318.6518725515351 L353.8132489557992,223.68066917262468 A41.44718344484856 41.44718344484856 0.9403644547600101 0 0 320.3333333333333,206.66633790314626 Z\" style=\"fill: rgb(105, 105, 105);\"/><title>Commercial → Energy services\nEnergy services\n6.14</title><text class=\"label\" dy=\"0.35em\" x=\"324.3333333333333\" y=\"200.1563270539501\"/></g><g class=\"link\" style=\"opacity: 0.8;\"><path d=\"M320.3333333333333,137.89560114409707 A56.15660172123339 56.15660172123339 1.0501203368456196 0 1 369.0482360240672,166.11616569629803 L444.48618658648707,297.66497480621825 A39.78615098644691 39.78615098644691 1.0501203368456196 0 0 479,317.65884209488115 L479,334.0292928296676 A56.156601721233386 56.156601721233386 1.0501203368456196 0 1 430.2850973092661,305.8087282774666 L354.84714674684625,174.25991916754646 A39.78615098644692 39.78615098644692 1.0501203368456196 0 0 320.3333333333333,154.26605187888353 Z\" style=\"fill: rgb(105, 105, 105);\"/><title>Residential → Energy services\nEnergy services\n7.72</title><text class=\"label\" dy=\"0.35em\" x=\"324.3333333333333\" y=\"146.0808265114903\"/></g><g class=\"link\" style=\"opacity: 0.8;\"><path d=\"M1,61.378057500739715 A217.11662875997607 217.11662875997607 0.12997668505545734 0 0 29.140708662188402,59.54666046855101 L129.20627988209066,46.46672895529582 A235.0138572834991 235.0138572834991 0.12997668505545734 0 1 159.66666666666666,44.48436729460499 L159.66666666666666,62.381595818128034 A217.11662875997607 217.11662875997607 0.12997668505545734 0 0 131.52595800447824,64.21299285031674 L31.460386784576016,77.29292436357193 A235.0138572834991 235.0138572834991 0.12997668505545734 0 1 1,79.27528602426275 Z\" style=\"fill: rgb(255, 0, 0);\"/><title>Nuclear → Electricity Generation\nNuclear\n8.44</title><text class=\"label\" dy=\"0.35em\" x=\"5\" y=\"70.32667176250123\"/></g><g class=\"link\" style=\"opacity: 0.8;\"><path d=\"M160.66666666666666,313.0997139757372 A97.599355499323 97.599355499323 0.2826459079993593 0 0 187.8868870660236,309.22705582190724 L286.87322804663046,280.47932337929404 A116.38720439960903 116.38720439960903 0.2826459079993593 0 1 319.3333333333333,275.86117960351123 L319.3333333333333,294.64902850379724 A97.599355499323 97.599355499323 0.2826459079993593 0 0 292.1131129339763,298.5216866576272 L193.1267719533695,327.2694191002404 A116.38720439960903 116.38720439960903 0.2826459079993593 0 1 160.66666666666666,331.8875628760232 Z\" style=\"fill: rgb(0, 128, 0);\"/><title>         → Industrial\nPetroleum\n8.86</title><text class=\"label\" dy=\"0.35em\" x=\"164.66666666666666\" y=\"322.4936384258802\"/></g><g class=\"link\" style=\"opacity: 0.8;\"><path d=\"M160.66666666666666,208.38396291547488 A117.42374672893058 117.42374672893058 0.2843564357250816 0 1 193.6086998161525,213.09941914260514 L292.57817234636315,242.02591275156692 A95.37028978051359 95.37028978051359 0.2843564357250816 0 0 319.3333333333333,245.85575500542458 L319.3333333333333,267.9092119538416 A117.42374672893058 117.42374672893058 0.2843564357250816 0 1 286.3913001838475,263.19375572671134 L187.42182765363683,234.26726211774957 A95.37028978051359 95.37028978051359 0.2843564357250816 0 0 160.66666666666666,230.4374198638919 Z\" style=\"fill: rgb(70, 130, 180);\"/><title>      → Industrial\nNatural_Gas\n10.4</title><text class=\"label\" dy=\"0.35em\" x=\"164.66666666666666\" y=\"219.4106913896834\"/></g><g class=\"link\" style=\"opacity: 0.8;\"><path d=\"M1,155.37455616924743 A46.843656159541524 46.843656159541524 0.6341308631005356 0 0 28.75381570636937,146.2675378584894 L101.3315983646198,92.889427907474 A98.45953833862666 98.45953833862666 0.6341308631005356 0 1 159.66666666666666,73.7476082453891 L159.66666666666666,97.07338001775324 A75.13376656626252 75.13376656626252 0.6341308631005356 0 0 115.1515950099321,111.68036512465336 L42.57381235168168,165.05847507566875 A70.16942793190567 70.16942793190567 0.6341308631005356 0 1 1,178.70032794161156 Z\" style=\"fill: rgb(70, 130, 180);\"/><title>Natural_Gas → Electricity Generation\nNatural_Gas\n11.0</title><text class=\"label\" dy=\"0.35em\" x=\"5\" y=\"167.0374420554295\"/></g><g class=\"link\" style=\"opacity: 0.8;\"><path d=\"M1,237.32594437321234 A35.13347040675952 35.13347040675952 0.9384702288056294 0 0 29.34058658820426,222.95715298297372 L99.05964457586248,127.80138398817242 A75.13376656626252 75.13376656626252 0.9384702288056294 0 1 159.66666666666666,97.07338001775324 L159.66666666666666,122.7317289673538 A49.475417616661964 49.475417616661964 0.9384702288056294 0 0 119.75707786946074,142.9660510097894 L50.03801988180254,238.12182000459072 A60.79181935636007 60.79181935636007 0.9384702288056294 0 1 1,262.9842933228129 Z\" style=\"fill: rgb(0, 0, 0);\"/><title>Coal → Electricity Generation\nCoal\n12.1</title><text class=\"label\" dy=\"0.35em\" x=\"5\" y=\"250.15511884801262\"/></g><g class=\"link\" style=\"opacity: 0.8;\"><path d=\"M320.3333333333333,267.31546503599964 A72.99835920088306 72.99835920088306 0.6110642917006748 0 1 362.21537398723933,280.5254046500956 L439.3106400461989,334.53096441603094 A69.17662341962574 69.17662341962574 0.6110642917006748 0 0 479,347.04931452805994 L479,374.4040832429234 A96.53139213448915 96.53139213448915 0.6110642917006748 0 1 423.6161292662875,356.93555552640186 L346.5208632073279,302.9299957604665 A45.64359048601965 45.64359048601965 0.6110642917006748 0 0 320.3333333333333,294.6702337508631 Z\" style=\"fill: rgb(105, 105, 105);\"/><title>Industrial → Energy services\nEnergy services\n12.9</title><text class=\"label\" dy=\"0.35em\" x=\"324.3333333333333\" y=\"280.99284939343136\"/></g><g class=\"link\" style=\"opacity: 0.8;\"><path d=\"M320.3333333333333,238.90043396784694 A34.64361751411682 34.64361751411682 0.9320736720218797 0 0 348.14723631154874,224.9103158081456 L403.15745582161605,150.82849160936954 A94.4657099678293 94.4657099678293 0.9320736720218797 0 1 479,112.68044185817143 L479,141.0954729263241 A66.05067889967663 66.05067889967663 0.9320736720218797 0 0 425.970688791023,167.76869208302523 L370.9604692809557,241.8505162818013 A63.058648582269505 63.058648582269505 0.9320736720218797 0 1 320.3333333333333,267.31546503599964 Z\" style=\"fill: rgb(211, 211, 211);\"/><title>Industrial → Rejected energy\nRejected energy\n13.4</title><text class=\"label\" dy=\"0.35em\" x=\"324.3333333333333\" y=\"253.1079495019233\"/></g><g class=\"link\" style=\"opacity: 0.8;\"><path d=\"M1,178.70032794161156 A362.86736069959125 362.86736069959125 0.0856357996418553 0 1 32.036469842280255,180.0300571271148 L132.26305712794846,188.63408387990134 A320.39325082682274 320.39325082682274 0.0856357996418553 0 0 159.66666666666666,189.8081664858467 L159.66666666666666,232.2822763586152 A362.86736069959125 362.86736069959125 0.0856357996418553 0 1 128.63019682438642,230.95254717311198 L28.403609538718204,222.34852042032543 A320.39325082682274 320.39325082682274 0.0856357996418553 0 0 1,221.17443781438007 Z\" style=\"fill: rgb(70, 130, 180);\"/><title>Natural_Gas →      \nNatural_Gas\n20.0</title><text class=\"label\" dy=\"0.35em\" x=\"5\" y=\"199.93738287799582\"/></g><g class=\"link\" style=\"opacity: 0.8;\"><path d=\"M320.3333333333333,326.90432981556364 A24.44484613948113 24.44484613948113 1.0517922524198862 0 0 341.55912580536335,314.5845089015086 L421.6472969000661,174.38398415902518 A66.05067889967663 66.05067889967663 1.0517922524198862 0 1 479,141.09547292632413 L479,188.5952263536838 A18.55092547231692 18.55092547231692 1.0517922524198862 0 0 462.89197902933284,197.94460324502788 L382.8038079346301,338.14512798751133 A71.94459956684084 71.94459956684084 1.0517922524198862 0 1 320.3333333333333,374.4040832429233 Z\" style=\"fill: rgb(211, 211, 211);\"/><title>Transportation → Rejected energy\nRejected energy\n22.4</title><text class=\"label\" dy=\"0.35em\" x=\"324.3333333333333\" y=\"350.6542065292435\"/></g><g class=\"link\" style=\"opacity: 0.8;\"><path d=\"M160.66666666666666,43.19084722359207 A0 0 0 0 0 160.66666666666666,43.19084722359207 L319.3333333333333,43.19084722359207 A0 0 0 0 0 319.3333333333333,43.19084722359207 L319.3333333333333,96.8401223000296 A0 0 0 0 0 319.3333333333333,96.8401223000296 L160.66666666666666,96.8401223000296 A0 0 0 0 0 160.66666666666666,96.8401223000296 Z\" style=\"fill: rgb(211, 211, 211);\"/><title>Electricity Generation → \nRejected energy\n25.3</title><text class=\"label\" dy=\"0.35em\" x=\"164.66666666666666\" y=\"70.01548476181084\"/></g><g class=\"link\" style=\"opacity: 0.8;\"><path d=\"M320.3333333333333,43.19084722359207 A0 0 0 0 0 320.3333333333333,43.19084722359207 L479,43.19084722359207 A0 0 0 0 0 479,43.19084722359207 L479,96.8401223000296 A0 0 0 0 0 479,96.8401223000296 L320.3333333333333,96.8401223000296 A0 0 0 0 0 320.3333333333333,96.8401223000296 Z\" style=\"fill: rgb(211, 211, 211);\"/><title> → Rejected energy\nRejected energy\n25.3</title><text class=\"label\" dy=\"0.35em\" x=\"324.3333333333333\" y=\"70.01548476181084\"/></g><g class=\"link\" style=\"opacity: 0.8;\"><path d=\"M160.66666666666666,331.8875628760232 A0 0 0 0 0 160.66666666666666,331.8875628760232 L319.3333333333333,331.8027418877601 A0 0 0 0 1 319.3333333333333,331.8027418877601 L319.3333333333333,386.93638425880255 A0 0 0 0 0 319.3333333333333,386.93638425880255 L160.66666666666666,387.02120524706567 A0 0 0 0 1 160.66666666666666,387.02120524706567 Z\" style=\"fill: rgb(0, 128, 0);\"/><title>         → Transportation\nPetroleum\n26.0</title><text class=\"label\" dy=\"0.35em\" x=\"164.66666666666666\" y=\"359.45438406154443\"/></g><g class=\"link\" style=\"opacity: 0.8;\"><path d=\"M1,309.26156425683007 A0 0 0 0 0 1,309.26156425683007 L159.66666666666666,309.26156425683 A0 0 0 0 1 159.66666666666666,309.26156425683 L159.66666666666666,387.0212052470658 A0 0 0 0 0 159.66666666666666,387.0212052470658 L1,387.02120524706584 A0 0 0 0 1 1,387.02120524706584 Z\" style=\"fill: rgb(0, 128, 0);\"/><title>Petroleum →         \nPetroleum\n36.7</title><text class=\"label\" dy=\"0.35em\" x=\"5\" y=\"348.14138475194795\"/></g></g><g class=\"nodes\"><g class=\"node\" transform=\"translate(0,43.19084722359207)\"><title>Solar</title><line x1=\"0\" x2=\"0\" y1=\"0\" y2=\"2.0357037183154176\" style=\"display: inline; stroke: rgb(0, 0, 0);\"/><rect class=\"node-body\" width=\"1\" height=\"2.0357037183154176\" style=\"fill: none;\"/><text class=\"node-value\" dy=\".35em\" text-anchor=\"middle\" transform=\"translate(0.5,1.0178518591577088) rotate(-90)\" style=\"display: none;\"/><text class=\"node-title\" dy=\".35em\" text-anchor=\"end\" transform=\"translate(-4,1.0178518591577088)\" style=\"display: inline;\">Solar</text><rect class=\"node-click-target\" x=\"-5\" y=\"-5\" width=\"10\" height=\"7.035703718315418\" style=\"fill: none; visibility: hidden; pointer-events: all;\"/></g><g class=\"node\" transform=\"translate(0,61.378057500739715)\"><title>Nuclear</title><line x1=\"0\" x2=\"0\" y1=\"0\" y2=\"17.89722852352304\" style=\"display: inline; stroke: rgb(0, 0, 0);\"/><rect class=\"node-body\" width=\"1\" height=\"17.89722852352304\" style=\"fill: none;\"/><text class=\"node-value\" dy=\".35em\" text-anchor=\"middle\" transform=\"translate(0.5,8.94861426176152) rotate(-90)\" style=\"display: none;\"/><text class=\"node-title\" dy=\".35em\" text-anchor=\"end\" transform=\"translate(-4,8.94861426176152)\" style=\"display: inline;\">Nuclear</text><rect class=\"node-click-target\" x=\"-5\" y=\"-5\" width=\"10\" height=\"22.89722852352304\" style=\"fill: none; visibility: hidden; pointer-events: all;\"/></g><g class=\"node\" transform=\"translate(0,95.42679258309497)\"><title>Hydro</title><line x1=\"0\" x2=\"0\" y1=\"0\" y2=\"5.683006213630534\" style=\"display: inline; stroke: rgb(0, 0, 0);\"/><rect class=\"node-body\" width=\"1\" height=\"5.683006213630534\" style=\"fill: none;\"/><text class=\"node-value\" dy=\".35em\" text-anchor=\"middle\" transform=\"translate(0.5,2.841503106815267) rotate(-90)\" style=\"display: none;\"/><text class=\"node-title\" dy=\".35em\" text-anchor=\"end\" transform=\"translate(-4,2.841503106815267)\" style=\"display: inline;\">Hydro</text><rect class=\"node-click-target\" x=\"-5\" y=\"-5\" width=\"10\" height=\"10.683006213630534\" style=\"fill: none; visibility: hidden; pointer-events: all;\"/></g><g class=\"node\" transform=\"translate(0,117.26130535555772)\"><title>Wind</title><line x1=\"0\" x2=\"0\" y1=\"0\" y2=\"5.364927507643756\" style=\"display: inline; stroke: rgb(0, 0, 0);\"/><rect class=\"node-body\" width=\"1\" height=\"5.364927507643756\" style=\"fill: none;\"/><text class=\"node-value\" dy=\".35em\" text-anchor=\"middle\" transform=\"translate(0.5,2.682463753821878) rotate(-90)\" style=\"display: none;\"/><text class=\"node-title\" dy=\".35em\" text-anchor=\"end\" transform=\"translate(-4,2.682463753821878)\" style=\"display: inline;\">Wind</text><rect class=\"node-click-target\" x=\"-5\" y=\"-5\" width=\"10\" height=\"10.364927507643756\" style=\"fill: none; visibility: hidden; pointer-events: all;\"/></g><g class=\"node\" transform=\"translate(0,138.7777394220337)\"><title>Geothermal</title><line x1=\"0\" x2=\"0\" y1=\"0\" y2=\"1\" style=\"display: inline; stroke: rgb(0, 0, 0);\"/><rect class=\"node-body\" width=\"1\" height=\"1\" style=\"fill: none;\"/><text class=\"node-value\" dy=\".35em\" text-anchor=\"middle\" transform=\"translate(0.5,0.22265509419074192) rotate(0)\" style=\"display: none;\"/><text class=\"node-title\" dy=\".35em\" text-anchor=\"end\" transform=\"translate(-4,0.22265509419074192)\" style=\"display: inline;\">Geothermal</text><rect class=\"node-click-target\" x=\"-5\" y=\"-5\" width=\"10\" height=\"6\" style=\"fill: none; visibility: hidden; pointer-events: all;\"/></g><g class=\"node\" transform=\"translate(0,155.37455616924743)\"><title>Natural_Gas</title><line x1=\"0\" x2=\"0\" y1=\"0\" y2=\"65.79988164513267\" style=\"display: inline; stroke: rgb(0, 0, 0);\"/><rect class=\"node-body\" width=\"1\" height=\"65.79988164513267\" style=\"fill: none;\"/><text class=\"node-value\" dy=\".35em\" text-anchor=\"middle\" transform=\"translate(0.5,32.899940822566336) rotate(-90)\" style=\"display: none;\"/><text class=\"node-title\" dy=\".35em\" text-anchor=\"end\" transform=\"translate(-4,32.899940822566336)\" style=\"display: inline;\">Natural_Gas</text><rect class=\"node-click-target\" x=\"-5\" y=\"-5\" width=\"10\" height=\"70.79988164513267\" style=\"fill: none; visibility: hidden; pointer-events: all;\"/></g><g class=\"node\" transform=\"translate(0,237.32594437321234)\"><title>Coal</title><line x1=\"0\" x2=\"0\" y1=\"0\" y2=\"28.245389091626407\" style=\"display: inline; stroke: rgb(0, 0, 0);\"/><rect class=\"node-body\" width=\"1\" height=\"28.245389091626407\" style=\"fill: none;\"/><text class=\"node-value\" dy=\".35em\" text-anchor=\"middle\" transform=\"translate(0.5,14.122694545813204) rotate(-90)\" style=\"display: none;\"/><text class=\"node-title\" dy=\".35em\" text-anchor=\"end\" transform=\"translate(-4,14.122694545813204)\" style=\"display: inline;\">Coal</text><rect class=\"node-click-target\" x=\"-5\" y=\"-5\" width=\"10\" height=\"33.24538909162641\" style=\"fill: none; visibility: hidden; pointer-events: all;\"/></g><g class=\"node\" transform=\"translate(0,281.722840023671)\"><title>Biomass</title><line x1=\"0\" x2=\"0\" y1=\"0\" y2=\"10.878291744748026\" style=\"display: inline; stroke: rgb(0, 0, 0);\"/><rect class=\"node-body\" width=\"1\" height=\"10.878291744748026\" style=\"fill: none;\"/><text class=\"node-value\" dy=\".35em\" text-anchor=\"middle\" transform=\"translate(0.5,5.439145872374013) rotate(-90)\" style=\"display: none;\"/><text class=\"node-title\" dy=\".35em\" text-anchor=\"end\" transform=\"translate(-4,5.439145872374013)\" style=\"display: inline;\">Biomass</text><rect class=\"node-click-target\" x=\"-5\" y=\"-5\" width=\"10\" height=\"15.878291744748026\" style=\"fill: none; visibility: hidden; pointer-events: all;\"/></g><g class=\"node\" transform=\"translate(0,308.7526383272512)\"><title>Petroleum</title><line x1=\"0\" x2=\"0\" y1=\"0\" y2=\"78.26856691981459\" style=\"display: inline; stroke: rgb(0, 0, 0);\"/><rect class=\"node-body\" width=\"1\" height=\"78.26856691981459\" style=\"fill: none;\"/><text class=\"node-value\" dy=\".35em\" text-anchor=\"middle\" transform=\"translate(0.5,39.134283459907294) rotate(-90)\" style=\"display: none;\"/><text class=\"node-title\" dy=\".35em\" text-anchor=\"end\" transform=\"translate(-4,39.134283459907294)\" style=\"display: inline;\">Petroleum</text><rect class=\"node-click-target\" x=\"-5\" y=\"-5\" width=\"10\" height=\"83.26856691981459\" style=\"fill: none; visibility: hidden; pointer-events: all;\"/></g><g class=\"node\" transform=\"translate(159.66666666666666,0.05301311766446397)\"><title>Net electricity imports</title><line x1=\"0\" x2=\"0\" y1=\"0\" y2=\"1\" style=\"display: inline; stroke: rgb(0, 0, 0);\"/><rect class=\"node-body\" width=\"1\" height=\"1\" style=\"fill: none;\"/><text class=\"node-value\" dy=\".35em\" text-anchor=\"middle\" transform=\"translate(0.5,0.05301311766446396) rotate(0)\" style=\"display: none;\"/><text class=\"node-title\" dy=\".35em\" text-anchor=\"end\" transform=\"translate(-4,0.05301311766446396)\" style=\"display: inline;\">Net electricity imports</text><rect class=\"node-click-target\" x=\"-5\" y=\"-5\" width=\"10\" height=\"6\" style=\"fill: none; visibility: hidden; pointer-events: all;\"/></g><g class=\"node\" transform=\"translate(159.66666666666666,43.19084722359207)\"><title>Electricity Generation</title><line x1=\"0\" x2=\"0\" y1=\"-5\" y2=\"81.17368576782722\" style=\"display: inline; stroke: rgb(0, 0, 0);\"/><rect class=\"node-body\" width=\"1\" height=\"81.17368576782722\" style=\"fill: none;\"/><text class=\"node-value\" dy=\".35em\" text-anchor=\"middle\" transform=\"translate(0.5,40.58684288391361) rotate(-90)\" style=\"display: none;\"/><text class=\"node-title\" dy=\".35em\" text-anchor=\"start\" transform=\"translate(-4,-10)\" style=\"display: inline;\">Electricity Generation</text><rect class=\"node-click-target\" x=\"-5\" y=\"-5\" width=\"10\" height=\"86.17368576782722\" style=\"fill: none; visibility: hidden; pointer-events: all;\"/></g><g class=\"node\" transform=\"translate(159.66666666666666,145.88927244632936)\"><title/><line x1=\"0\" x2=\"0\" y1=\"-5\" y2=\"1\" style=\"display: none; stroke: rgb(0, 0, 0);\"/><rect class=\"node-body\" width=\"1\" height=\"1\" style=\"fill: none;\"/><text class=\"node-value\" dy=\".35em\" text-anchor=\"middle\" transform=\"translate(0.5,0.37109182365124127) rotate(0)\" style=\"display: none;\"/><text class=\"node-title\" dy=\".35em\" text-anchor=\"start\" transform=\"translate(-4,-10)\" style=\"display: none;\"/><rect class=\"node-click-target\" x=\"-5\" y=\"-5\" width=\"10\" height=\"6\" style=\"fill: none; visibility: hidden; pointer-events: all;\"/></g><g class=\"node\" transform=\"translate(159.66666666666666,168.15619554854192)\"><title>    </title><line x1=\"0\" x2=\"0\" y1=\"-5\" y2=\"1\" style=\"display: inline; stroke: rgb(0, 0, 0);\"/><rect class=\"node-body\" width=\"1\" height=\"1\" style=\"fill: none;\"/><text class=\"node-value\" dy=\".35em\" text-anchor=\"middle\" transform=\"translate(0.5,0.0636157411973528) rotate(0)\" style=\"display: none;\"/><text class=\"node-title\" dy=\".35em\" text-anchor=\"start\" transform=\"translate(-4,-10)\" style=\"display: inline;\">    </text><rect class=\"node-click-target\" x=\"-5\" y=\"-5\" width=\"10\" height=\"6\" style=\"fill: none; visibility: hidden; pointer-events: all;\"/></g><g class=\"node\" transform=\"translate(159.66666666666666,189.8081664858467)\"><title>     </title><line x1=\"0\" x2=\"0\" y1=\"-5\" y2=\"42.47410987276854\" style=\"display: inline; stroke: rgb(0, 0, 0);\"/><rect class=\"node-body\" width=\"1\" height=\"42.47410987276854\" style=\"fill: none;\"/><text class=\"node-value\" dy=\".35em\" text-anchor=\"middle\" transform=\"translate(0.5,21.23705493638427) rotate(-90)\" style=\"display: none;\"/><text class=\"node-title\" dy=\".35em\" text-anchor=\"start\" transform=\"translate(-4,-10)\" style=\"display: inline;\">     </text><rect class=\"node-click-target\" x=\"-5\" y=\"-5\" width=\"10\" height=\"47.47410987276854\" style=\"fill: none; visibility: hidden; pointer-events: all;\"/></g><g class=\"node\" transform=\"translate(159.66666666666666,253.8070158135253)\"><title>      </title><line x1=\"0\" x2=\"0\" y1=\"-5\" y2=\"2.5870401420258418\" style=\"display: inline; stroke: rgb(0, 0, 0);\"/><rect class=\"node-body\" width=\"1\" height=\"2.5870401420258418\" style=\"fill: none;\"/><text class=\"node-value\" dy=\".35em\" text-anchor=\"middle\" transform=\"translate(0.5,1.2935200710129209) rotate(-90)\" style=\"display: none;\"/><text class=\"node-title\" dy=\".35em\" text-anchor=\"start\" transform=\"translate(-4,-10)\" style=\"display: inline;\">      </text><rect class=\"node-click-target\" x=\"-5\" y=\"-5\" width=\"10\" height=\"7.587040142025842\" style=\"fill: none; visibility: hidden; pointer-events: all;\"/></g><g class=\"node\" transform=\"translate(159.66666666666666,277.9187954104612)\"><title>       </title><line x1=\"0\" x2=\"0\" y1=\"-5\" y2=\"9.818029391458708\" style=\"display: inline; stroke: rgb(0, 0, 0);\"/><rect class=\"node-body\" width=\"1\" height=\"9.818029391458708\" style=\"fill: none;\"/><text class=\"node-value\" dy=\".35em\" text-anchor=\"middle\" transform=\"translate(0.5,4.909014695729354) rotate(-90)\" style=\"display: none;\"/><text class=\"node-title\" dy=\".35em\" text-anchor=\"start\" transform=\"translate(-4,-10)\" style=\"display: inline;\">       </text><rect class=\"node-click-target\" x=\"-5\" y=\"-5\" width=\"10\" height=\"14.818029391458708\" style=\"fill: none; visibility: hidden; pointer-events: all;\"/></g><g class=\"node\" transform=\"translate(159.66666666666666,309.26156425683)\"><title>        </title><line x1=\"0\" x2=\"0\" y1=\"-5\" y2=\"77.75964099023571\" style=\"display: inline; stroke: rgb(0, 0, 0);\"/><rect class=\"node-body\" width=\"1\" height=\"77.75964099023571\" style=\"fill: none;\"/><text class=\"node-value\" dy=\".35em\" text-anchor=\"middle\" transform=\"translate(0.5,38.879820495117855) rotate(-90)\" style=\"display: none;\"/><text class=\"node-title\" dy=\".35em\" text-anchor=\"start\" transform=\"translate(-4,-10)\" style=\"display: inline;\">        </text><rect class=\"node-click-target\" x=\"-5\" y=\"-5\" width=\"10\" height=\"82.75964099023571\" style=\"fill: none; visibility: hidden; pointer-events: all;\"/></g><g class=\"node\" transform=\"translate(319.3333333333333,43.19084722359207)\"><title/><line x1=\"0\" x2=\"0\" y1=\"-5\" y2=\"53.64927507643753\" style=\"display: none; stroke: rgb(0, 0, 0);\"/><rect class=\"node-body\" width=\"1\" height=\"53.64927507643753\" style=\"fill: none;\"/><text class=\"node-value\" dy=\".35em\" text-anchor=\"middle\" transform=\"translate(0.5,26.824637538218767) rotate(-90)\" style=\"display: none;\"/><text class=\"node-title\" dy=\".35em\" text-anchor=\"start\" transform=\"translate(-4,-10)\" style=\"display: none;\"/><rect class=\"node-click-target\" x=\"-5\" y=\"-5\" width=\"10\" height=\"58.64927507643753\" style=\"fill: none; visibility: hidden; pointer-events: all;\"/></g><g class=\"node\" transform=\"translate(319.3333333333333,129.07421836473026)\"><title>Residential</title><line x1=\"0\" x2=\"0\" y1=\"-5\" y2=\"25.31906499654798\" style=\"display: inline; stroke: rgb(0, 0, 0);\"/><rect class=\"node-body\" width=\"1\" height=\"25.31906499654798\" style=\"fill: none;\"/><text class=\"node-value\" dy=\".35em\" text-anchor=\"middle\" transform=\"translate(0.5,12.65953249827399) rotate(-90)\" style=\"display: none;\"/><text class=\"node-title\" dy=\".35em\" text-anchor=\"start\" transform=\"translate(-4,-10)\" style=\"display: inline;\">Residential</text><rect class=\"node-click-target\" x=\"-5\" y=\"-5\" width=\"10\" height=\"30.31906499654798\" style=\"fill: none; visibility: hidden; pointer-events: all;\"/></g><g class=\"node\" transform=\"translate(319.3333333333333,186.62737942597892)\"><title>Commercial</title><line x1=\"0\" x2=\"0\" y1=\"-5\" y2=\"20.03895847716737\" style=\"display: inline; stroke: rgb(0, 0, 0);\"/><rect class=\"node-body\" width=\"1\" height=\"20.03895847716737\" style=\"fill: none;\"/><text class=\"node-value\" dy=\".35em\" text-anchor=\"middle\" transform=\"translate(0.5,10.019479238583685) rotate(-90)\" style=\"display: none;\"/><text class=\"node-title\" dy=\".35em\" text-anchor=\"start\" transform=\"translate(-4,-10)\" style=\"display: inline;\">Commercial</text><rect class=\"node-click-target\" x=\"-5\" y=\"-5\" width=\"10\" height=\"25.03895847716737\" style=\"fill: none; visibility: hidden; pointer-events: all;\"/></g><g class=\"node\" transform=\"translate(319.3333333333333,238.90043396784694)\"><title>Industrial</title><line x1=\"0\" x2=\"0\" y1=\"-5\" y2=\"55.76979978301608\" style=\"display: inline; stroke: rgb(0, 0, 0);\"/><rect class=\"node-body\" width=\"1\" height=\"55.76979978301608\" style=\"fill: none;\"/><text class=\"node-value\" dy=\".35em\" text-anchor=\"middle\" transform=\"translate(0.5,27.88489989150804) rotate(-90)\" style=\"display: none;\"/><text class=\"node-title\" dy=\".35em\" text-anchor=\"start\" transform=\"translate(-4,-10)\" style=\"display: inline;\">Industrial</text><rect class=\"node-click-target\" x=\"-5\" y=\"-5\" width=\"10\" height=\"60.76979978301608\" style=\"fill: none; visibility: hidden; pointer-events: all;\"/></g><g class=\"node\" transform=\"translate(319.3333333333333,326.90432981556364)\"><title>Transportation</title><line x1=\"0\" x2=\"0\" y1=\"-5\" y2=\"60.11687543150214\" style=\"display: inline; stroke: rgb(0, 0, 0);\"/><rect class=\"node-body\" width=\"1\" height=\"60.11687543150214\" style=\"fill: none;\"/><text class=\"node-value\" dy=\".35em\" text-anchor=\"middle\" transform=\"translate(0.5,30.05843771575107) rotate(-90)\" style=\"display: none;\"/><text class=\"node-title\" dy=\".35em\" text-anchor=\"start\" transform=\"translate(-4,-10)\" style=\"display: inline;\">Transportation</text><rect class=\"node-click-target\" x=\"-5\" y=\"-5\" width=\"10\" height=\"65.11687543150214\" style=\"fill: none; visibility: hidden; pointer-events: all;\"/></g><g class=\"node\" transform=\"translate(479,43.19084722359207)\"><title>Rejected energy</title><line x1=\"0\" x2=\"0\" y1=\"0\" y2=\"145.40437913009174\" style=\"display: inline; stroke: rgb(0, 0, 0);\"/><rect class=\"node-body\" width=\"1\" height=\"145.40437913009174\" style=\"fill: none;\"/><text class=\"node-value\" dy=\".35em\" text-anchor=\"middle\" transform=\"translate(0.5,72.70218956504587) rotate(-90)\" style=\"display: none;\"/><text class=\"node-title\" dy=\".35em\" text-anchor=\"start\" transform=\"translate(5,72.70218956504587)\" style=\"display: inline;\">Rejected energy</text><rect class=\"node-click-target\" x=\"-5\" y=\"-5\" width=\"10\" height=\"150.40437913009174\" style=\"fill: none; visibility: hidden; pointer-events: all;\"/></g><g class=\"node\" transform=\"translate(479,317.65884209488115)\"><title>Energy services</title><line x1=\"0\" x2=\"0\" y1=\"0\" y2=\"69.36236315218463\" style=\"display: inline; stroke: rgb(0, 0, 0);\"/><rect class=\"node-body\" width=\"1\" height=\"69.36236315218463\" style=\"fill: none;\"/><text class=\"node-value\" dy=\".35em\" text-anchor=\"middle\" transform=\"translate(0.5,34.681181576092314) rotate(-90)\" style=\"display: none;\"/><text class=\"node-title\" dy=\".35em\" text-anchor=\"start\" transform=\"translate(5,34.681181576092314)\" style=\"display: inline;\">Energy services</text><rect class=\"node-click-target\" x=\"-5\" y=\"-5\" width=\"10\" height=\"74.36236315218463\" style=\"fill: none; visibility: hidden; pointer-events: all;\"/></g></g><g class=\"slice-titles\"/></g></svg>"
          }
        },
        "c61316bdaf44461bac9e137f7027ed9e": {
          "model_module": "@jupyter-widgets/output",
          "model_name": "OutputModel",
          "model_module_version": "1.0.0",
          "state": {
            "_dom_classes": [],
            "_model_module": "@jupyter-widgets/output",
            "_model_module_version": "1.0.0",
            "_model_name": "OutputModel",
            "_view_count": null,
            "_view_module": "@jupyter-widgets/output",
            "_view_module_version": "1.0.0",
            "_view_name": "OutputView",
            "layout": "IPY_MODEL_ad4b9a3fb15047119d26ee7d0b644dd7",
            "msg_id": "",
            "outputs": []
          }
        },
        "3884df3bab6e480381094afb3784d9db": {
          "model_module": "@jupyter-widgets/base",
          "model_name": "LayoutModel",
          "model_module_version": "1.2.0",
          "state": {
            "_model_module": "@jupyter-widgets/base",
            "_model_module_version": "1.2.0",
            "_model_name": "LayoutModel",
            "_view_count": null,
            "_view_module": "@jupyter-widgets/base",
            "_view_module_version": "1.2.0",
            "_view_name": "LayoutView",
            "align_content": null,
            "align_items": null,
            "align_self": null,
            "border": null,
            "bottom": null,
            "display": null,
            "flex": null,
            "flex_flow": null,
            "grid_area": null,
            "grid_auto_columns": null,
            "grid_auto_flow": null,
            "grid_auto_rows": null,
            "grid_column": null,
            "grid_gap": null,
            "grid_row": null,
            "grid_template_areas": null,
            "grid_template_columns": null,
            "grid_template_rows": null,
            "height": null,
            "justify_content": null,
            "justify_items": null,
            "left": null,
            "margin": null,
            "max_height": null,
            "max_width": null,
            "min_height": null,
            "min_width": null,
            "object_fit": null,
            "object_position": null,
            "order": null,
            "overflow": null,
            "overflow_x": null,
            "overflow_y": null,
            "padding": null,
            "right": null,
            "top": null,
            "visibility": null,
            "width": null
          }
        },
        "ad4b9a3fb15047119d26ee7d0b644dd7": {
          "model_module": "@jupyter-widgets/base",
          "model_name": "LayoutModel",
          "model_module_version": "1.2.0",
          "state": {
            "_model_module": "@jupyter-widgets/base",
            "_model_module_version": "1.2.0",
            "_model_name": "LayoutModel",
            "_view_count": null,
            "_view_module": "@jupyter-widgets/base",
            "_view_module_version": "1.2.0",
            "_view_name": "LayoutView",
            "align_content": null,
            "align_items": null,
            "align_self": null,
            "border": null,
            "bottom": null,
            "display": null,
            "flex": null,
            "flex_flow": null,
            "grid_area": null,
            "grid_auto_columns": null,
            "grid_auto_flow": null,
            "grid_auto_rows": null,
            "grid_column": null,
            "grid_gap": null,
            "grid_row": null,
            "grid_template_areas": null,
            "grid_template_columns": null,
            "grid_template_rows": null,
            "height": null,
            "justify_content": null,
            "justify_items": null,
            "left": null,
            "margin": null,
            "max_height": null,
            "max_width": null,
            "min_height": null,
            "min_width": null,
            "object_fit": null,
            "object_position": null,
            "order": null,
            "overflow": null,
            "overflow_x": null,
            "overflow_y": null,
            "padding": null,
            "right": null,
            "top": null,
            "visibility": null,
            "width": null
          }
        },
        "4c13f3f11fc441eb8fea77ea1a41a351": {
          "model_module": "@jupyter-widgets/base",
          "model_name": "LayoutModel",
          "model_module_version": "1.2.0",
          "state": {
            "_model_module": "@jupyter-widgets/base",
            "_model_module_version": "1.2.0",
            "_model_name": "LayoutModel",
            "_view_count": null,
            "_view_module": "@jupyter-widgets/base",
            "_view_module_version": "1.2.0",
            "_view_name": "LayoutView",
            "align_content": null,
            "align_items": null,
            "align_self": null,
            "border": null,
            "bottom": null,
            "display": null,
            "flex": null,
            "flex_flow": null,
            "grid_area": null,
            "grid_auto_columns": null,
            "grid_auto_flow": null,
            "grid_auto_rows": null,
            "grid_column": null,
            "grid_gap": null,
            "grid_row": null,
            "grid_template_areas": null,
            "grid_template_columns": null,
            "grid_template_rows": null,
            "height": "450",
            "justify_content": null,
            "justify_items": null,
            "left": null,
            "margin": null,
            "max_height": null,
            "max_width": null,
            "min_height": null,
            "min_width": null,
            "object_fit": null,
            "object_position": null,
            "order": null,
            "overflow": null,
            "overflow_x": null,
            "overflow_y": null,
            "padding": null,
            "right": null,
            "top": null,
            "visibility": null,
            "width": "700"
          }
        }
      }
    }
  },
  "nbformat": 4,
  "nbformat_minor": 0
}